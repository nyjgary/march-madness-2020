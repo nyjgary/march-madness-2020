{
 "cells": [
  {
   "cell_type": "code",
   "execution_count": 1,
   "metadata": {},
   "outputs": [],
   "source": [
    "import numpy as np\n",
    "import pandas as pd\n",
    "import matplotlib.pyplot as plt \n",
    "%matplotlib inline\n",
    "import seaborn as sns\n",
    "plt.style.use('ggplot')\n",
    "\n",
    "from sklearn.linear_model import LogisticRegression\n",
    "from sklearn.base import clone \n",
    "from sklearn.metrics import log_loss, roc_auc_score, average_precision_score, balanced_accuracy_score, \\\n",
    "    precision_score, recall_score, f1_score, roc_curve, precision_recall_curve"
   ]
  },
  {
   "cell_type": "markdown",
   "metadata": {},
   "source": [
    "# Import Data"
   ]
  },
  {
   "cell_type": "code",
   "execution_count": 31,
   "metadata": {},
   "outputs": [
    {
     "name": "stdout",
     "output_type": "stream",
     "text": [
      "<class 'pandas.core.frame.DataFrame'>\n",
      "RangeIndex: 367 entries, 0 to 366\n",
      "Data columns (total 4 columns):\n",
      "TeamID           367 non-null int64\n",
      "TeamName         367 non-null object\n",
      "FirstD1Season    367 non-null int64\n",
      "LastD1Season     367 non-null int64\n",
      "dtypes: int64(3), object(1)\n",
      "memory usage: 11.5+ KB\n"
     ]
    },
    {
     "data": {
      "text/html": [
       "<div>\n",
       "<style scoped>\n",
       "    .dataframe tbody tr th:only-of-type {\n",
       "        vertical-align: middle;\n",
       "    }\n",
       "\n",
       "    .dataframe tbody tr th {\n",
       "        vertical-align: top;\n",
       "    }\n",
       "\n",
       "    .dataframe thead th {\n",
       "        text-align: right;\n",
       "    }\n",
       "</style>\n",
       "<table border=\"1\" class=\"dataframe\">\n",
       "  <thead>\n",
       "    <tr style=\"text-align: right;\">\n",
       "      <th></th>\n",
       "      <th>TeamID</th>\n",
       "      <th>TeamName</th>\n",
       "      <th>FirstD1Season</th>\n",
       "      <th>LastD1Season</th>\n",
       "    </tr>\n",
       "  </thead>\n",
       "  <tbody>\n",
       "    <tr>\n",
       "      <th>302</th>\n",
       "      <td>1403</td>\n",
       "      <td>Texas Tech</td>\n",
       "      <td>1985</td>\n",
       "      <td>2020</td>\n",
       "    </tr>\n",
       "    <tr>\n",
       "      <th>337</th>\n",
       "      <td>1438</td>\n",
       "      <td>Virginia</td>\n",
       "      <td>1985</td>\n",
       "      <td>2020</td>\n",
       "    </tr>\n",
       "  </tbody>\n",
       "</table>\n",
       "</div>"
      ],
      "text/plain": [
       "     TeamID    TeamName  FirstD1Season  LastD1Season\n",
       "302    1403  Texas Tech           1985          2020\n",
       "337    1438    Virginia           1985          2020"
      ]
     },
     "execution_count": 31,
     "metadata": {},
     "output_type": "execute_result"
    }
   ],
   "source": [
    "teams = pd.read_csv('data/MDataFiles_Stage1/MTeams.csv')\n",
    "teams.info()\n",
    "teams[teams['TeamName'].isin(['Virginia', 'Texas Tech'])]  "
   ]
  },
  {
   "cell_type": "code",
   "execution_count": 32,
   "metadata": {},
   "outputs": [
    {
     "name": "stdout",
     "output_type": "stream",
     "text": [
      "<class 'pandas.core.frame.DataFrame'>\n",
      "RangeIndex: 2286 entries, 0 to 2285\n",
      "Data columns (total 3 columns):\n",
      "Season    2286 non-null int64\n",
      "Seed      2286 non-null object\n",
      "TeamID    2286 non-null int64\n",
      "dtypes: int64(2), object(1)\n",
      "memory usage: 53.7+ KB\n"
     ]
    },
    {
     "data": {
      "text/html": [
       "<div>\n",
       "<style scoped>\n",
       "    .dataframe tbody tr th:only-of-type {\n",
       "        vertical-align: middle;\n",
       "    }\n",
       "\n",
       "    .dataframe tbody tr th {\n",
       "        vertical-align: top;\n",
       "    }\n",
       "\n",
       "    .dataframe thead th {\n",
       "        text-align: right;\n",
       "    }\n",
       "</style>\n",
       "<table border=\"1\" class=\"dataframe\">\n",
       "  <thead>\n",
       "    <tr style=\"text-align: right;\">\n",
       "      <th></th>\n",
       "      <th>Season</th>\n",
       "      <th>Seed</th>\n",
       "      <th>TeamID</th>\n",
       "    </tr>\n",
       "  </thead>\n",
       "  <tbody>\n",
       "    <tr>\n",
       "      <th>2086</th>\n",
       "      <td>2017</td>\n",
       "      <td>W05</td>\n",
       "      <td>1438</td>\n",
       "    </tr>\n",
       "    <tr>\n",
       "      <th>2185</th>\n",
       "      <td>2018</td>\n",
       "      <td>Y01</td>\n",
       "      <td>1438</td>\n",
       "    </tr>\n",
       "    <tr>\n",
       "      <th>2270</th>\n",
       "      <td>2019</td>\n",
       "      <td>Z01</td>\n",
       "      <td>1438</td>\n",
       "    </tr>\n",
       "  </tbody>\n",
       "</table>\n",
       "</div>"
      ],
      "text/plain": [
       "      Season Seed  TeamID\n",
       "2086    2017  W05    1438\n",
       "2185    2018  Y01    1438\n",
       "2270    2019  Z01    1438"
      ]
     },
     "execution_count": 32,
     "metadata": {},
     "output_type": "execute_result"
    }
   ],
   "source": [
    "seeds = pd.read_csv('data/MDataFiles_Stage1/MNCAATourneySeeds.csv')\n",
    "seeds.info()\n",
    "seeds.query(\"TeamID == 1438\").tail(3) # UVA seedings last 3 years"
   ]
  },
  {
   "cell_type": "code",
   "execution_count": 33,
   "metadata": {},
   "outputs": [
    {
     "name": "stdout",
     "output_type": "stream",
     "text": [
      "<class 'pandas.core.frame.DataFrame'>\n",
      "RangeIndex: 2251 entries, 0 to 2250\n",
      "Data columns (total 8 columns):\n",
      "Season     2251 non-null int64\n",
      "DayNum     2251 non-null int64\n",
      "WTeamID    2251 non-null int64\n",
      "WScore     2251 non-null int64\n",
      "LTeamID    2251 non-null int64\n",
      "LScore     2251 non-null int64\n",
      "WLoc       2251 non-null object\n",
      "NumOT      2251 non-null int64\n",
      "dtypes: int64(7), object(1)\n",
      "memory usage: 140.8+ KB\n"
     ]
    },
    {
     "data": {
      "text/html": [
       "<div>\n",
       "<style scoped>\n",
       "    .dataframe tbody tr th:only-of-type {\n",
       "        vertical-align: middle;\n",
       "    }\n",
       "\n",
       "    .dataframe tbody tr th {\n",
       "        vertical-align: top;\n",
       "    }\n",
       "\n",
       "    .dataframe thead th {\n",
       "        text-align: right;\n",
       "    }\n",
       "</style>\n",
       "<table border=\"1\" class=\"dataframe\">\n",
       "  <thead>\n",
       "    <tr style=\"text-align: right;\">\n",
       "      <th></th>\n",
       "      <th>Season</th>\n",
       "      <th>DayNum</th>\n",
       "      <th>WTeamID</th>\n",
       "      <th>WScore</th>\n",
       "      <th>LTeamID</th>\n",
       "      <th>LScore</th>\n",
       "      <th>WLoc</th>\n",
       "      <th>NumOT</th>\n",
       "    </tr>\n",
       "  </thead>\n",
       "  <tbody>\n",
       "    <tr>\n",
       "      <th>2245</th>\n",
       "      <td>2019</td>\n",
       "      <td>145</td>\n",
       "      <td>1438</td>\n",
       "      <td>80</td>\n",
       "      <td>1345</td>\n",
       "      <td>75</td>\n",
       "      <td>N</td>\n",
       "      <td>1</td>\n",
       "    </tr>\n",
       "    <tr>\n",
       "      <th>2249</th>\n",
       "      <td>2019</td>\n",
       "      <td>152</td>\n",
       "      <td>1438</td>\n",
       "      <td>63</td>\n",
       "      <td>1120</td>\n",
       "      <td>62</td>\n",
       "      <td>N</td>\n",
       "      <td>0</td>\n",
       "    </tr>\n",
       "    <tr>\n",
       "      <th>2250</th>\n",
       "      <td>2019</td>\n",
       "      <td>154</td>\n",
       "      <td>1438</td>\n",
       "      <td>85</td>\n",
       "      <td>1403</td>\n",
       "      <td>77</td>\n",
       "      <td>N</td>\n",
       "      <td>1</td>\n",
       "    </tr>\n",
       "  </tbody>\n",
       "</table>\n",
       "</div>"
      ],
      "text/plain": [
       "      Season  DayNum  WTeamID  WScore  LTeamID  LScore WLoc  NumOT\n",
       "2245    2019     145     1438      80     1345      75    N      1\n",
       "2249    2019     152     1438      63     1120      62    N      0\n",
       "2250    2019     154     1438      85     1403      77    N      1"
      ]
     },
     "execution_count": 33,
     "metadata": {},
     "output_type": "execute_result"
    }
   ],
   "source": [
    "tourney_results = pd.read_csv('data/MDataFiles_Stage1/MNCAATourneyCompactResults.csv')\n",
    "tourney_results.info()\n",
    "tourney_results.query(\"WTeamID == 1438 | LTeamID == 1438\").tail(3)"
   ]
  },
  {
   "cell_type": "code",
   "execution_count": 34,
   "metadata": {},
   "outputs": [
    {
     "name": "stdout",
     "output_type": "stream",
     "text": [
      "<class 'pandas.core.frame.DataFrame'>\n",
      "RangeIndex: 161552 entries, 0 to 161551\n",
      "Data columns (total 8 columns):\n",
      "Season     161552 non-null int64\n",
      "DayNum     161552 non-null int64\n",
      "WTeamID    161552 non-null int64\n",
      "WScore     161552 non-null int64\n",
      "LTeamID    161552 non-null int64\n",
      "LScore     161552 non-null int64\n",
      "WLoc       161552 non-null object\n",
      "NumOT      161552 non-null int64\n",
      "dtypes: int64(7), object(1)\n",
      "memory usage: 9.9+ MB\n"
     ]
    },
    {
     "data": {
      "text/html": [
       "<div>\n",
       "<style scoped>\n",
       "    .dataframe tbody tr th:only-of-type {\n",
       "        vertical-align: middle;\n",
       "    }\n",
       "\n",
       "    .dataframe tbody tr th {\n",
       "        vertical-align: top;\n",
       "    }\n",
       "\n",
       "    .dataframe thead th {\n",
       "        text-align: right;\n",
       "    }\n",
       "</style>\n",
       "<table border=\"1\" class=\"dataframe\">\n",
       "  <thead>\n",
       "    <tr style=\"text-align: right;\">\n",
       "      <th></th>\n",
       "      <th>Season</th>\n",
       "      <th>DayNum</th>\n",
       "      <th>WTeamID</th>\n",
       "      <th>WScore</th>\n",
       "      <th>LTeamID</th>\n",
       "      <th>LScore</th>\n",
       "      <th>WLoc</th>\n",
       "      <th>NumOT</th>\n",
       "    </tr>\n",
       "  </thead>\n",
       "  <tbody>\n",
       "    <tr>\n",
       "      <th>161319</th>\n",
       "      <td>2019</td>\n",
       "      <td>124</td>\n",
       "      <td>1438</td>\n",
       "      <td>73</td>\n",
       "      <td>1257</td>\n",
       "      <td>68</td>\n",
       "      <td>H</td>\n",
       "      <td>0</td>\n",
       "    </tr>\n",
       "    <tr>\n",
       "      <th>161469</th>\n",
       "      <td>2019</td>\n",
       "      <td>129</td>\n",
       "      <td>1438</td>\n",
       "      <td>76</td>\n",
       "      <td>1301</td>\n",
       "      <td>56</td>\n",
       "      <td>N</td>\n",
       "      <td>0</td>\n",
       "    </tr>\n",
       "    <tr>\n",
       "      <th>161486</th>\n",
       "      <td>2019</td>\n",
       "      <td>130</td>\n",
       "      <td>1199</td>\n",
       "      <td>69</td>\n",
       "      <td>1438</td>\n",
       "      <td>59</td>\n",
       "      <td>N</td>\n",
       "      <td>0</td>\n",
       "    </tr>\n",
       "  </tbody>\n",
       "</table>\n",
       "</div>"
      ],
      "text/plain": [
       "        Season  DayNum  WTeamID  WScore  LTeamID  LScore WLoc  NumOT\n",
       "161319    2019     124     1438      73     1257      68    H      0\n",
       "161469    2019     129     1438      76     1301      56    N      0\n",
       "161486    2019     130     1199      69     1438      59    N      0"
      ]
     },
     "execution_count": 34,
     "metadata": {},
     "output_type": "execute_result"
    }
   ],
   "source": [
    "regular_results = pd.read_csv('data/MDataFiles_Stage1/MRegularSeasonCompactResults.csv') \n",
    "regular_results.info()\n",
    "regular_results.query(\"WTeamID == 1438 | LTeamID == 1438\").tail(3)"
   ]
  },
  {
   "cell_type": "code",
   "execution_count": 35,
   "metadata": {},
   "outputs": [
    {
     "name": "stdout",
     "output_type": "stream",
     "text": [
      "<class 'pandas.core.frame.DataFrame'>\n",
      "RangeIndex: 3820919 entries, 0 to 3820918\n",
      "Data columns (total 5 columns):\n",
      "Season           int64\n",
      "RankingDayNum    int64\n",
      "SystemName       object\n",
      "TeamID           int64\n",
      "OrdinalRank      int64\n",
      "dtypes: int64(4), object(1)\n",
      "memory usage: 145.8+ MB\n"
     ]
    },
    {
     "data": {
      "text/html": [
       "<div>\n",
       "<style scoped>\n",
       "    .dataframe tbody tr th:only-of-type {\n",
       "        vertical-align: middle;\n",
       "    }\n",
       "\n",
       "    .dataframe tbody tr th {\n",
       "        vertical-align: top;\n",
       "    }\n",
       "\n",
       "    .dataframe thead th {\n",
       "        text-align: right;\n",
       "    }\n",
       "</style>\n",
       "<table border=\"1\" class=\"dataframe\">\n",
       "  <thead>\n",
       "    <tr style=\"text-align: right;\">\n",
       "      <th></th>\n",
       "      <th>Season</th>\n",
       "      <th>RankingDayNum</th>\n",
       "      <th>SystemName</th>\n",
       "      <th>TeamID</th>\n",
       "      <th>OrdinalRank</th>\n",
       "    </tr>\n",
       "  </thead>\n",
       "  <tbody>\n",
       "    <tr>\n",
       "      <th>3820186</th>\n",
       "      <td>2019</td>\n",
       "      <td>133</td>\n",
       "      <td>WOL</td>\n",
       "      <td>1438</td>\n",
       "      <td>1</td>\n",
       "    </tr>\n",
       "    <tr>\n",
       "      <th>3820539</th>\n",
       "      <td>2019</td>\n",
       "      <td>133</td>\n",
       "      <td>YAG</td>\n",
       "      <td>1438</td>\n",
       "      <td>3</td>\n",
       "    </tr>\n",
       "    <tr>\n",
       "      <th>3820892</th>\n",
       "      <td>2019</td>\n",
       "      <td>133</td>\n",
       "      <td>ZAM</td>\n",
       "      <td>1438</td>\n",
       "      <td>2</td>\n",
       "    </tr>\n",
       "  </tbody>\n",
       "</table>\n",
       "</div>"
      ],
      "text/plain": [
       "         Season  RankingDayNum SystemName  TeamID  OrdinalRank\n",
       "3820186    2019            133        WOL    1438            1\n",
       "3820539    2019            133        YAG    1438            3\n",
       "3820892    2019            133        ZAM    1438            2"
      ]
     },
     "execution_count": 35,
     "metadata": {},
     "output_type": "execute_result"
    }
   ],
   "source": [
    "public_rankings = pd.read_csv('data/MDataFiles_Stage1/MMasseyOrdinals.csv') \n",
    "public_rankings.info()\n",
    "public_rankings.query(\"TeamID == 1438\").tail(3)"
   ]
  },
  {
   "cell_type": "markdown",
   "metadata": {},
   "source": [
    "# Helper Functions"
   ]
  },
  {
   "cell_type": "code",
   "execution_count": 36,
   "metadata": {},
   "outputs": [],
   "source": [
    "def clf_eda_numeric(data, feature, target='Won'):\n",
    "    \"\"\" Creates EDA plots for a binary target vs. a select numeric feature \"\"\"\n",
    "    \n",
    "    # set up axes and define attributes \n",
    "    fig, axes = plt.subplots(nrows=2, ncols=2, figsize=(14,8))\n",
    "    neutral_color = list(plt.rcParams['axes.prop_cycle'])[3]['color']\n",
    "    \n",
    "    # top-left: boxplot \n",
    "    sns.boxplot(x=target, y=feature, data=data, ax=axes[0,0]) \n",
    "    \n",
    "    # top-right: overlapping density plots, 1 for each class  \n",
    "    for y in [0,1]:\n",
    "        subset = data[data[target]==y]\n",
    "        sns.distplot(subset[feature], label=y, ax=axes[0,1])\n",
    "        xmin, xmax = data[feature].min(), data[feature].max()\n",
    "        axes[0,1].set_xlim(xmin, xmax)\n",
    "        axes[0,1].set_ylabel('Density')\n",
    "        axes[0,1].legend()\n",
    "        \n",
    "    # bottom-left: line plot of average target by feature value  \n",
    "    sns.lineplot(x=feature, y=target, color=neutral_color, data=data, ax=axes[1,0])\n",
    "    \n",
    "    # bottom-right: histogram of combined data \n",
    "    sns.distplot(data[feature], kde=False, norm_hist=True, label='Density', color=neutral_color, ax=axes[1,1])"
   ]
  },
  {
   "cell_type": "markdown",
   "metadata": {},
   "source": [
    "# Construct Dataset + Engineer Features"
   ]
  },
  {
   "cell_type": "markdown",
   "metadata": {},
   "source": [
    "### Create IDs and Labels"
   ]
  },
  {
   "cell_type": "markdown",
   "metadata": {},
   "source": [
    "Each observation in our dataset is a March Madness match-up between two teams in a particular season, uniquely identified by a SSSS_XXXX_YYYY ID, where SSSS is the four digit season number, XXXX is the four-digit TeamID of the lower-ID team, and YYYY is the four-digit TeamID of the higher-ID team. The label of this observation is the outcome of the game, indicating whether the lower-ID team wins (1) or loses (0). "
   ]
  },
  {
   "cell_type": "code",
   "execution_count": 37,
   "metadata": {},
   "outputs": [],
   "source": [
    "def create_match_ups(seeds, seasons=None): \n",
    "    \"\"\" Given seeds dataframe and a tuple of (start, end) seasons, generate all possible match ups for each season \"\"\"\n",
    "    \n",
    "    seeds = seeds.copy() \n",
    "    \n",
    "    # filter for relevant seasons \n",
    "    if seasons is not None: \n",
    "        start_season, end_season = seasons \n",
    "        seeds = seeds[(seeds[\"Season\"] >= start_season) & (seeds[\"Season\"] <= end_season)]\n",
    "        \n",
    "    # generate pairwise match-ups \n",
    "    pairs = seeds\\\n",
    "        .merge(seeds, how='left', on=['Season'], suffixes=['_A', '_B'])\\\n",
    "        .drop(['Seed_A', 'Seed_B'], axis=1)\\\n",
    "        .query(\"TeamID_A < TeamID_B\")\\\n",
    "        .rename(columns={'TeamID_A': 'TeamA', 'TeamID_B': 'TeamB'})\\\n",
    "        .assign(Teams = lambda x: x['TeamA'].astype(str) + '_' + x['TeamB'].astype(str))\\\n",
    "        .assign(ID = lambda x: x['Season'].astype(str) + '_' + x['Teams'])\n",
    "        \n",
    "    return pairs\n",
    "\n",
    "def reformat_results(results):\n",
    "    \"\"\" Reformat results into a more useful format (WTeamID/LTeamID --> TeamA/TeamB) \"\"\"\n",
    "    \n",
    "    reformatted = results.assign(\n",
    "        TeamA = lambda x: x[['WTeamID','LTeamID']].min(axis=1), \n",
    "        TeamB = lambda x: x[['WTeamID','LTeamID']].max(axis=1), \n",
    "        Teams = lambda x: x['TeamA'].astype(str) + '_' + x['TeamB'].astype(str),\n",
    "        ID = lambda x: x['Season'].astype(str) + '_' + x['Teams'],\n",
    "        Won = lambda x: np.where(x['WTeamID'] < x['LTeamID'], 1, 0),\n",
    "        ScoreTeamA = lambda x: np.where(x['WTeamID'] == x['TeamA'], x['WScore'], x['LScore']),\n",
    "        ScoreTeamB = lambda x: np.where(x['WTeamID'] == x['TeamB'], x['WScore'], x['LScore']),\n",
    "        ScoreDiff = lambda x: x['ScoreTeamA'] - x['ScoreTeamB']\n",
    "    )\n",
    "    \n",
    "    cols_to_return = ['ID', 'Season', 'TeamA', 'TeamB', 'Teams', 'Won', \n",
    "                      'ScoreTeamA', 'ScoreTeamB', 'ScoreDiff', 'DayNum', 'NumOT', 'WLoc']\n",
    "    \n",
    "    return reformatted[cols_to_return] \n",
    "\n",
    "def append_labels(pairs, tourney_results):\n",
    "    \"\"\" Given set of all possible match-ups, reduce to pairs with historical results, and append relevant labels \"\"\"\n",
    "    tourney_results_reformatted = reformat_results(tourney_results)\n",
    "    labeled = pairs.merge(tourney_results_reformatted[['ID', 'Won']], how='inner', on='ID')\n",
    "    return labeled"
   ]
  },
  {
   "cell_type": "code",
   "execution_count": 38,
   "metadata": {},
   "outputs": [
    {
     "name": "stdout",
     "output_type": "stream",
     "text": [
      "There are 73558 possible match-ups, but only 2251 were realized and have labels to train with!\n"
     ]
    }
   ],
   "source": [
    "pairs = create_match_ups(seeds, seasons=(1985, 2019))\n",
    "labeled_pairs = append_labels(pairs, tourney_results)\n",
    "print(\"There are {} possible match-ups, but only {} were realized and have labels to train with!\".format(\n",
    "    len(pairs), len(labeled_pairs)))"
   ]
  },
  {
   "cell_type": "code",
   "execution_count": 47,
   "metadata": {},
   "outputs": [
    {
     "name": "stdout",
     "output_type": "stream",
     "text": [
      "<class 'pandas.core.frame.DataFrame'>\n",
      "Int64Index: 2251 entries, 0 to 2250\n",
      "Data columns (total 6 columns):\n",
      "Season    2251 non-null int64\n",
      "TeamA     2251 non-null int64\n",
      "TeamB     2251 non-null int64\n",
      "Teams     2251 non-null object\n",
      "ID        2251 non-null object\n",
      "Won       2251 non-null int64\n",
      "dtypes: int64(4), object(2)\n",
      "memory usage: 203.1+ KB\n"
     ]
    },
    {
     "data": {
      "text/html": [
       "<div>\n",
       "<style scoped>\n",
       "    .dataframe tbody tr th:only-of-type {\n",
       "        vertical-align: middle;\n",
       "    }\n",
       "\n",
       "    .dataframe tbody tr th {\n",
       "        vertical-align: top;\n",
       "    }\n",
       "\n",
       "    .dataframe thead th {\n",
       "        text-align: right;\n",
       "    }\n",
       "</style>\n",
       "<table border=\"1\" class=\"dataframe\">\n",
       "  <thead>\n",
       "    <tr style=\"text-align: right;\">\n",
       "      <th></th>\n",
       "      <th>Season</th>\n",
       "      <th>TeamA</th>\n",
       "      <th>TeamB</th>\n",
       "      <th>Teams</th>\n",
       "      <th>ID</th>\n",
       "      <th>Won</th>\n",
       "    </tr>\n",
       "  </thead>\n",
       "  <tbody>\n",
       "    <tr>\n",
       "      <th>2205</th>\n",
       "      <td>2019</td>\n",
       "      <td>1403</td>\n",
       "      <td>1438</td>\n",
       "      <td>1403_1438</td>\n",
       "      <td>2019_1403_1438</td>\n",
       "      <td>0</td>\n",
       "    </tr>\n",
       "  </tbody>\n",
       "</table>\n",
       "</div>"
      ],
      "text/plain": [
       "      Season  TeamA  TeamB      Teams              ID  Won\n",
       "2205    2019   1403   1438  1403_1438  2019_1403_1438    0"
      ]
     },
     "execution_count": 47,
     "metadata": {},
     "output_type": "execute_result"
    }
   ],
   "source": [
    "labeled_pairs.info()\n",
    "labeled_pairs.query(\"Teams == '1403_1438'\") # UVA beat Texas Tech in the championship final last year "
   ]
  },
  {
   "cell_type": "markdown",
   "metadata": {},
   "source": [
    "### Engineer Feature #1: Seed Difference"
   ]
  },
  {
   "cell_type": "markdown",
   "metadata": {},
   "source": [
    "Generally we expect the higher-seeded team to win, and the greater the gap in seedings, the more confident we are. Here we create the feature `SeedDiff` to represent how much higher the lower-ID team is seeded above the higher-ID team. For example, `SeedDiff`=-2 for `ID`=2019_1403_1438 means that #3 Texas Tech (ID:1403) was seeded two positions below #1 Virginia (ID:1438) in 2019. Our EDA reveals past outcomes are consistent with our beliefs. "
   ]
  },
  {
   "cell_type": "code",
   "execution_count": 48,
   "metadata": {},
   "outputs": [],
   "source": [
    "def append_seed_features(data, seeds):\n",
    "    \"\"\" Create seed features and append to main dataframe \"\"\"\n",
    "    seeds = seeds.copy() \n",
    "    seeds['Seed'] = seeds['Seed'].apply(lambda x: int(x[1:3]))\n",
    "    seeds = seeds.set_index(['Season', 'TeamID'])\n",
    "    df = data.merge(seeds, how='left', left_on=['Season', 'TeamA'], right_index=True)\\\n",
    "             .merge(seeds, how='left', left_on=['Season', 'TeamB'], right_index=True, suffixes=('A', 'B'))\n",
    "    df['SeedDiff'] = df['SeedB'] - df['SeedA'] \n",
    "    return df "
   ]
  },
  {
   "cell_type": "code",
   "execution_count": 58,
   "metadata": {},
   "outputs": [
    {
     "data": {
      "text/html": [
       "<div>\n",
       "<style scoped>\n",
       "    .dataframe tbody tr th:only-of-type {\n",
       "        vertical-align: middle;\n",
       "    }\n",
       "\n",
       "    .dataframe tbody tr th {\n",
       "        vertical-align: top;\n",
       "    }\n",
       "\n",
       "    .dataframe thead th {\n",
       "        text-align: right;\n",
       "    }\n",
       "</style>\n",
       "<table border=\"1\" class=\"dataframe\">\n",
       "  <thead>\n",
       "    <tr style=\"text-align: right;\">\n",
       "      <th></th>\n",
       "      <th>Season</th>\n",
       "      <th>TeamA</th>\n",
       "      <th>TeamB</th>\n",
       "      <th>Teams</th>\n",
       "      <th>ID</th>\n",
       "      <th>Won</th>\n",
       "      <th>SeedA</th>\n",
       "      <th>SeedB</th>\n",
       "      <th>SeedDiff</th>\n",
       "    </tr>\n",
       "  </thead>\n",
       "  <tbody>\n",
       "    <tr>\n",
       "      <th>2205</th>\n",
       "      <td>2019</td>\n",
       "      <td>1403</td>\n",
       "      <td>1438</td>\n",
       "      <td>1403_1438</td>\n",
       "      <td>2019_1403_1438</td>\n",
       "      <td>0</td>\n",
       "      <td>3</td>\n",
       "      <td>1</td>\n",
       "      <td>-2</td>\n",
       "    </tr>\n",
       "  </tbody>\n",
       "</table>\n",
       "</div>"
      ],
      "text/plain": [
       "      Season  TeamA  TeamB      Teams              ID  Won  SeedA  SeedB  \\\n",
       "2205    2019   1403   1438  1403_1438  2019_1403_1438    0      3      1   \n",
       "\n",
       "      SeedDiff  \n",
       "2205        -2  "
      ]
     },
     "metadata": {},
     "output_type": "display_data"
    }
   ],
   "source": [
    "seeds_df = append_seed_features(labeled_pairs, seeds)\n",
    "display(seeds_df.query(\"Teams == '1403_1438'\"))"
   ]
  },
  {
   "cell_type": "code",
   "execution_count": 59,
   "metadata": {},
   "outputs": [
    {
     "data": {
      "image/png": "[encoded data removed]",
      "text/plain": [
       "<Figure size 1008x576 with 4 Axes>"
      ]
     },
     "metadata": {
      "needs_background": "light"
     },
     "output_type": "display_data"
    }
   ],
   "source": [
    "clf_eda_numeric(seeds_df, feature='SeedDiff')"
   ]
  },
  {
   "cell_type": "markdown",
   "metadata": {},
   "source": [
    "### Engineer Feature #2: Ranking Difference"
   ]
  },
  {
   "cell_type": "markdown",
   "metadata": {},
   "source": [
    "While seeds are a good indicator of the teams' relative standings, one limitation is that teams are divided into four regions, and seeds are assigned within each region. This means there are 4 #1-seed teams, 4 #2-seed teams, etc. and thus the seeds are not necessarily comparable across regions. For example, we do not know which of two #1-ranked seeds compare in case they meet in the Championship finals, nor do we know #3 seed from one conference is necessarily weaker than #2 seed from another. \n",
    "\n",
    "This might not matter that much for the purpose of this competition, since all games are equally weighted, and vast majority of the realized match-ups occur between teams in the same region, with the exception of Final Four and Championship games. That said, I think rankings also provide us with more granular information about the relative strengths of seeds within the same region, so we will include them as one of our features.  \n",
    "\n",
    "Note that we are provided with ranking history from 174 distinct sources, of which we would only use the 14 that include all 300+ D1 teams, and have data dating back to 2003. We compute `RankDiff` to represent how many positions the lower-ID team is ranked higher than the higher-ID team prior to the first March Madness game, aggregating across various ranking sources by taking the maximum (performed better than other aggregation methods empirically)."
   ]
  },
  {
   "cell_type": "code",
   "execution_count": 75,
   "metadata": {},
   "outputs": [
    {
     "name": "stdout",
     "output_type": "stream",
     "text": [
      "['ARG', 'BIH', 'COL', 'DOL', 'DUN', 'MAS', 'MOR', 'POM', 'RTH', 'SAG', 'SEL', 'WLK', 'WOB', 'WOL']\n"
     ]
    }
   ],
   "source": [
    "# use only ranking systems that have data between 2003 and 2019, and ranks all teams \n",
    "rank_systems = public_rankings.groupby('SystemName')['Season','OrdinalRank'].agg(['min','max']).reset_index()\n",
    "rank_systems.columns = rank_systems.columns.get_level_values(0) + rank_systems.columns.get_level_values(1)\n",
    "RANK_SYSTEMS_TO_USE = rank_systems[\n",
    "    (rank_systems['Seasonmin']<=2003) & (rank_systems['Seasonmax']==2019) &\n",
    "    (rank_systems['OrdinalRankmax'] > 300)]['SystemName'].tolist()\n",
    "print(RANK_SYSTEMS_TO_USE)"
   ]
  },
  {
   "cell_type": "code",
   "execution_count": 80,
   "metadata": {},
   "outputs": [],
   "source": [
    "def append_ranking_features(data, public_rankings, systems_to_use=RANK_SYSTEMS_TO_USE):\n",
    "    \"\"\" Append rank differences (positive diff means lower-id team is ranked higher) as features, \n",
    "        one per ranking system \"\"\"\n",
    "    ranks = public_rankings[(public_rankings['SystemName'].isin(systems_to_use)) & \n",
    "                            (public_rankings['RankingDayNum'] == 133)].drop('RankingDayNum', axis=1)\n",
    "    ranks = ranks.pivot_table(index=['Season', 'TeamID'], columns='SystemName', values='OrdinalRank')\n",
    "    output = data.merge(ranks, how='left', left_on=['Season','TeamA'], right_index=True)\\\n",
    "                 .merge(ranks, how='left', left_on=['Season','TeamB'], right_index=True, suffixes=('_A','_B'))\n",
    "    for sys in systems_to_use:\n",
    "        output['RankDiff' + sys] = output[sys + '_B'] - output[sys + '_A']\n",
    "        output.drop([sys+'_A', sys+'_B'], axis=1, inplace=True)\n",
    "        \n",
    "    output['RankDiffAVG'] = output[[col for col in output.columns if 'RankDiff' in col]].mean(axis=1)\n",
    "    output['RankDiffMIN'] = output[[col for col in output.columns if 'RankDiff' in col]].min(axis=1)\n",
    "    output['RankDiffMAX'] = output[[col for col in output.columns if 'RankDiff' in col]].max(axis=1)\n",
    "    output['RankDiffMEDIAN'] = output[[col for col in output.columns if 'RankDiff' in col]].median(axis=1)\n",
    "\n",
    "    return output"
   ]
  },
  {
   "cell_type": "code",
   "execution_count": 81,
   "metadata": {},
   "outputs": [
    {
     "data": {
      "text/html": [
       "<div>\n",
       "<style scoped>\n",
       "    .dataframe tbody tr th:only-of-type {\n",
       "        vertical-align: middle;\n",
       "    }\n",
       "\n",
       "    .dataframe tbody tr th {\n",
       "        vertical-align: top;\n",
       "    }\n",
       "\n",
       "    .dataframe thead th {\n",
       "        text-align: right;\n",
       "    }\n",
       "</style>\n",
       "<table border=\"1\" class=\"dataframe\">\n",
       "  <thead>\n",
       "    <tr style=\"text-align: right;\">\n",
       "      <th></th>\n",
       "      <th>Season</th>\n",
       "      <th>TeamA</th>\n",
       "      <th>TeamB</th>\n",
       "      <th>Teams</th>\n",
       "      <th>ID</th>\n",
       "      <th>Won</th>\n",
       "      <th>RankDiffARG</th>\n",
       "      <th>RankDiffBIH</th>\n",
       "      <th>RankDiffCOL</th>\n",
       "      <th>RankDiffDOL</th>\n",
       "      <th>...</th>\n",
       "      <th>RankDiffRTH</th>\n",
       "      <th>RankDiffSAG</th>\n",
       "      <th>RankDiffSEL</th>\n",
       "      <th>RankDiffWLK</th>\n",
       "      <th>RankDiffWOB</th>\n",
       "      <th>RankDiffWOL</th>\n",
       "      <th>RankDiffAVG</th>\n",
       "      <th>RankDiffMIN</th>\n",
       "      <th>RankDiffMAX</th>\n",
       "      <th>RankDiffMEDIAN</th>\n",
       "    </tr>\n",
       "  </thead>\n",
       "  <tbody>\n",
       "    <tr>\n",
       "      <th>2205</th>\n",
       "      <td>2019</td>\n",
       "      <td>1403</td>\n",
       "      <td>1438</td>\n",
       "      <td>1403_1438</td>\n",
       "      <td>2019_1403_1438</td>\n",
       "      <td>0</td>\n",
       "      <td>-9.0</td>\n",
       "      <td>-9.0</td>\n",
       "      <td>-11.0</td>\n",
       "      <td>-10.0</td>\n",
       "      <td>...</td>\n",
       "      <td>-9.0</td>\n",
       "      <td>-7.0</td>\n",
       "      <td>-9.0</td>\n",
       "      <td>-8.0</td>\n",
       "      <td>-9.0</td>\n",
       "      <td>-13.0</td>\n",
       "      <td>-9.357143</td>\n",
       "      <td>-15.0</td>\n",
       "      <td>-6.0</td>\n",
       "      <td>-9.0</td>\n",
       "    </tr>\n",
       "  </tbody>\n",
       "</table>\n",
       "<p>1 rows × 24 columns</p>\n",
       "</div>"
      ],
      "text/plain": [
       "      Season  TeamA  TeamB      Teams              ID  Won  RankDiffARG  \\\n",
       "2205    2019   1403   1438  1403_1438  2019_1403_1438    0         -9.0   \n",
       "\n",
       "      RankDiffBIH  RankDiffCOL  RankDiffDOL  ...  RankDiffRTH  RankDiffSAG  \\\n",
       "2205         -9.0        -11.0        -10.0  ...         -9.0         -7.0   \n",
       "\n",
       "      RankDiffSEL  RankDiffWLK  RankDiffWOB  RankDiffWOL  RankDiffAVG  \\\n",
       "2205         -9.0         -8.0         -9.0        -13.0    -9.357143   \n",
       "\n",
       "      RankDiffMIN  RankDiffMAX  RankDiffMEDIAN  \n",
       "2205        -15.0         -6.0            -9.0  \n",
       "\n",
       "[1 rows x 24 columns]"
      ]
     },
     "execution_count": 81,
     "metadata": {},
     "output_type": "execute_result"
    }
   ],
   "source": [
    "rankings_df = append_ranking_features(labeled_pairs, public_rankings)\n",
    "rankings_df.query(\"Teams == '1403_1438'\")"
   ]
  },
  {
   "cell_type": "code",
   "execution_count": 82,
   "metadata": {},
   "outputs": [
    {
     "data": {
      "image/png": "[encoded data removed]",
      "text/plain": [
       "<Figure size 1008x576 with 4 Axes>"
      ]
     },
     "metadata": {
      "needs_background": "light"
     },
     "output_type": "display_data"
    }
   ],
   "source": [
    "clf_eda_numeric(rankings_df.query(\"Season >= 2003\"), feature='RankDiffMAX')"
   ]
  },
  {
   "cell_type": "markdown",
   "metadata": {},
   "source": [
    "### Engineer Feature #3: Pedigree Difference"
   ]
  },
  {
   "cell_type": "markdown",
   "metadata": {},
   "source": [
    "Seeds and rankings capture only the teams' relative standings in the current season. However, teams with a storied history like UNC, Duke, and Villanova can never be counted out even if they had a poor regular season that resulted in them being seeded or ranked lower. Perhaps due to the big game experience that these coaches/players have, or an intangible \"belief\" that they can do it, teams that have historically advanced farther in the tournament might have an edge over historically less-successful teams. \n",
    "\n",
    "To quantify this difference, I assigned each team a numeric `Pedigree` score (1 to 16) in each season, based on the farthest the team had advanced to in years prior to the current season: 1 for Sweet Sixteen, 2 for Elite Eight, 3 for Final 4, 4 for making it to Championship Final, and 5 for winning it all. To facilitate pairwise comparison, we compute `PedigreeDiff` to represent the pedigree advantage that a lower-ID team has over the higher-ID team. "
   ]
  },
  {
   "cell_type": "code",
   "execution_count": 101,
   "metadata": {},
   "outputs": [],
   "source": [
    "# note that we can infer the champion rounds from day nums \n",
    "\n",
    "DAYNUMS_TO_ROUNDS = {\n",
    "    154: 'Final',\n",
    "    152: 'FinalFour',\n",
    "    146: 'EliteEight',\n",
    "    145: 'EliteEight',\n",
    "    144: 'SweetSixteen',\n",
    "    143: 'SweetSixteen'\n",
    "}\n",
    "\n",
    "PEDIGREE_CONVERSION = {\n",
    "    'Winner': 5,\n",
    "    'Final': 4,\n",
    "    'FinalFour': 3,\n",
    "    'EliteEight': 2,\n",
    "    'SweetSixteen': 1\n",
    "}"
   ]
  },
  {
   "cell_type": "code",
   "execution_count": 102,
   "metadata": {},
   "outputs": [],
   "source": [
    "def append_pedigree_features(matchups, tourney_results, pedigree_conversion=PEDIGREE_CONVERSION):\n",
    "    \"\"\" Append \"pedigree features\" indicating how far the teams have progressed in previous competitions \"\"\"\n",
    "    \n",
    "    tourney_results_reformatted = reformat_results(tourney_results)\n",
    "    \n",
    "    # subset matchups to Sweet16 and further \n",
    "    later_rounds = tourney_results_reformatted\\\n",
    "        .assign(Round = lambda x: x['DayNum'].map(DAYNUMS_TO_ROUNDS))\\\n",
    "        .dropna(subset=['Round'])\n",
    "    \n",
    "    # get previous Championship winners\n",
    "    winners = later_rounds\\\n",
    "        .query(\"Round == 'Final'\")\\\n",
    "        .assign(TeamID = lambda x: np.where(x['Won'] == 1,  x['TeamA'], x['TeamB']))\\\n",
    "        .assign(Round = 'Winner')\n",
    "    \n",
    "    # create a dataframe indicating how far each team reached in each season  \n",
    "    df = pd.concat([later_rounds[['Season', 'TeamA', 'Round']].rename(columns={'TeamA': 'TeamID'}), \n",
    "                    later_rounds[['Season', 'TeamB', 'Round']].rename(columns={'TeamB': 'TeamID'}),\n",
    "                    winners[['Season', 'TeamID', 'Round']]], sort=False)\n",
    "    df['Round'] = df['Round'].map(pedigree_conversion).astype(int)\n",
    "    \n",
    "    # determine each team's best result in preceding seasons as its \"pedigree score\"\n",
    "    pedigree = df.merge(df, how='left', on='TeamID', suffixes=('_1', '_2'))\\\n",
    "                 .query(\"Season_1 > Season_2\")\\\n",
    "                 .rename(columns={'Round_2': 'Pedigree'})\\\n",
    "                 .groupby(['TeamID', 'Season_1'])['Pedigree'].max()\n",
    "                 \n",
    "    # join pedigree to matchups and compute pedigree disparity as team A's pedigree - team B's pedigree \n",
    "    matchups = matchups.copy()\n",
    "    matchups = matchups\\\n",
    "        .merge(pedigree, how='left', left_on=['TeamA', 'Season'], right_index=True)\\\n",
    "        .merge(pedigree, how='left', left_on=['TeamB', 'Season'], right_index=True, suffixes=['A','B'])\n",
    "    matchups[['PedigreeA', 'PedigreeB']] = matchups[['PedigreeA', 'PedigreeB']].fillna(0).astype(int)\n",
    "    matchups['PedigreeDiff'] = matchups['PedigreeA'] - matchups['PedigreeB']\n",
    "    \n",
    "    return matchups"
   ]
  },
  {
   "cell_type": "code",
   "execution_count": 103,
   "metadata": {},
   "outputs": [
    {
     "data": {
      "text/html": [
       "<div>\n",
       "<style scoped>\n",
       "    .dataframe tbody tr th:only-of-type {\n",
       "        vertical-align: middle;\n",
       "    }\n",
       "\n",
       "    .dataframe tbody tr th {\n",
       "        vertical-align: top;\n",
       "    }\n",
       "\n",
       "    .dataframe thead th {\n",
       "        text-align: right;\n",
       "    }\n",
       "</style>\n",
       "<table border=\"1\" class=\"dataframe\">\n",
       "  <thead>\n",
       "    <tr style=\"text-align: right;\">\n",
       "      <th></th>\n",
       "      <th>Season</th>\n",
       "      <th>TeamA</th>\n",
       "      <th>TeamB</th>\n",
       "      <th>Teams</th>\n",
       "      <th>ID</th>\n",
       "      <th>Won</th>\n",
       "      <th>PedigreeA</th>\n",
       "      <th>PedigreeB</th>\n",
       "      <th>PedigreeDiff</th>\n",
       "    </tr>\n",
       "  </thead>\n",
       "  <tbody>\n",
       "    <tr>\n",
       "      <th>2205</th>\n",
       "      <td>2019</td>\n",
       "      <td>1403</td>\n",
       "      <td>1438</td>\n",
       "      <td>1403_1438</td>\n",
       "      <td>2019_1403_1438</td>\n",
       "      <td>0</td>\n",
       "      <td>2</td>\n",
       "      <td>2</td>\n",
       "      <td>0</td>\n",
       "    </tr>\n",
       "  </tbody>\n",
       "</table>\n",
       "</div>"
      ],
      "text/plain": [
       "      Season  TeamA  TeamB      Teams              ID  Won  PedigreeA  \\\n",
       "2205    2019   1403   1438  1403_1438  2019_1403_1438    0          2   \n",
       "\n",
       "      PedigreeB  PedigreeDiff  \n",
       "2205          2             0  "
      ]
     },
     "execution_count": 103,
     "metadata": {},
     "output_type": "execute_result"
    }
   ],
   "source": [
    "pedigree_df = append_pedigree_features(labeled_pairs, tourney_results) \n",
    "pedigree_df.query(\"Teams == '1403_1438'\")"
   ]
  },
  {
   "cell_type": "code",
   "execution_count": 104,
   "metadata": {},
   "outputs": [
    {
     "data": {
      "image/png": "[encoded data removed]",
      "text/plain": [
       "<Figure size 1008x576 with 4 Axes>"
      ]
     },
     "metadata": {
      "needs_background": "light"
     },
     "output_type": "display_data"
    }
   ],
   "source": [
    "clf_eda_numeric(pedigree_df.query(\"Season >= 2003\"), feature='PedigreeDiff')"
   ]
  },
  {
   "cell_type": "markdown",
   "metadata": {},
   "source": [
    "### Create historical tourney head-to-head features "
   ]
  },
  {
   "cell_type": "code",
   "execution_count": 105,
   "metadata": {},
   "outputs": [],
   "source": [
    "def bayesian_adj(n_wins, n_games, a=1, b=1):\n",
    "    \"\"\" Apply a simple Bayesian adjustment for computing win rate, as (n_wins + a) / (n_games + a + b) \"\"\" \n",
    "    return (n_wins + a) / (n_games + a + b)"
   ]
  },
  {
   "cell_type": "code",
   "execution_count": 106,
   "metadata": {},
   "outputs": [],
   "source": [
    "def append_tourney_head_to_head(data, tourney_results):\n",
    "    \"\"\" Given data w/ tourney results, append head-to-head features \"\"\"\n",
    "    \n",
    "    # if data contains label, remove before joining\n",
    "    df = data.copy()\n",
    "    if 'Won' in df.columns: \n",
    "        df = df.drop('Won', axis=1)\n",
    "    \n",
    "    tourney_results_reformatted = reformat_results(tourney_results)\n",
    "    \n",
    "    # generate head-to-head metrics \n",
    "    tourney_h2h = df\\\n",
    "        .merge(tourney_results_reformatted, how='left', on='Teams', suffixes=('_1', '_2'))\\\n",
    "        .query(\"Season_1 > Season_2\")\\\n",
    "        .groupby(['Teams', 'Season_1'])\\\n",
    "        .agg({'Won': ['size', np.sum], 'ScoreDiff': [np.sum]})\\\n",
    "        .reset_index()\n",
    "    tourney_h2h.columns = ['Teams', 'Season', 'TourneyH2HTotal', 'TourneyH2HWins', 'TourneyH2HScoreDiff']\n",
    "    tourney_h2h['TourneyH2HLosses'] = tourney_h2h['TourneyH2HTotal'] - tourney_h2h['TourneyH2HWins']\n",
    "    tourney_h2h['TourneyH2HEdge'] = tourney_h2h['TourneyH2HWins'] - tourney_h2h['TourneyH2HLosses']\n",
    "    \n",
    "    # append to main dataframe \n",
    "    output = data.merge(tourney_h2h, how='left', on=['Season','Teams']).fillna(0)\n",
    "    for col in ['TourneyH2HTotal', 'TourneyH2HWins', 'TourneyH2HLosses', 'TourneyH2HEdge', \n",
    "                'TourneyH2HScoreDiff']:\n",
    "        output[col] = output[col].astype(int)\n",
    "    output['TourneyH2HWinRateAdj'] = output.apply(\n",
    "        lambda x: bayesian_adj(x['TourneyH2HWins'], x['TourneyH2HTotal']), axis=1)\n",
    "    \n",
    "    return output"
   ]
  },
  {
   "cell_type": "code",
   "execution_count": null,
   "metadata": {},
   "outputs": [],
   "source": [
    "labeled_pairs_w_h2h = append_tourney_head_to_head(labeled_pairs_w_seeds, tourney_results_reformatted)\n",
    "labeled_pairs_w_h2h.query(\"Teams == '1314_1437'\").T"
   ]
  },
  {
   "cell_type": "code",
   "execution_count": null,
   "metadata": {},
   "outputs": [],
   "source": [
    "clf_eda_numeric(labeled_pairs_w_h2h, feature='TourneyH2HEdge')"
   ]
  },
  {
   "cell_type": "code",
   "execution_count": null,
   "metadata": {},
   "outputs": [],
   "source": [
    "clf_eda_numeric(labeled_pairs_w_h2h, feature='TourneyH2HScoreDiff')"
   ]
  },
  {
   "cell_type": "code",
   "execution_count": null,
   "metadata": {},
   "outputs": [],
   "source": [
    "clf_eda_numeric(labeled_pairs_w_h2h, feature='TourneyH2HWinRateAdj')"
   ]
  },
  {
   "cell_type": "markdown",
   "metadata": {},
   "source": [
    "### Create Regular Season Success Features"
   ]
  },
  {
   "cell_type": "code",
   "execution_count": null,
   "metadata": {},
   "outputs": [],
   "source": [
    "regular_results_reformatted = reformat_results(regular_results)\n",
    "regular_results_reformatted.head()"
   ]
  },
  {
   "cell_type": "markdown",
   "metadata": {},
   "source": [
    "### Put It Altogether"
   ]
  },
  {
   "cell_type": "code",
   "execution_count": null,
   "metadata": {},
   "outputs": [],
   "source": [
    "DATA = {'seeds': pd.read_csv('data/MDataFiles_Stage1/MNCAATourneySeeds.csv'), \n",
    "        'tourney_results': pd.read_csv('data/MDataFiles_Stage1/MNCAATourneyCompactResults.csv'),\n",
    "        'public_rankings': pd.read_csv('data/MDataFiles_Stage1/MMasseyOrdinals.csv')\n",
    "       }"
   ]
  },
  {
   "cell_type": "code",
   "execution_count": null,
   "metadata": {},
   "outputs": [],
   "source": [
    "def construct_dataset(seasons, train=True, ignore_before=None, input_data=DATA):\n",
    "    \"\"\" Given a range of seasons to train/predict on, chain together data wrangling steps to generate train/test \n",
    "        datasets from raw data. \n",
    "    \n",
    "        Parameters\n",
    "        ----------\n",
    "        seasons : tuple\n",
    "            A tuple (season_start, season_end) specifying which seasons we want to include in our train/test sets \n",
    "        ignore_before : int, default=None\n",
    "            Data from seasons prior to ignore_before will not be used to engineer features (e.g. historical win %)\n",
    "        train : boolean, default=True \n",
    "            If train=True, only realized match-ups will be returned, along with their match outcomes as labels. \n",
    "            If train=False, all possible match-ups will be returned, with no labels. \n",
    "            \n",
    "        Returns\n",
    "        -------\n",
    "        dataset : pd.DataFrame\n",
    "            Either a train or test dataset with a complete set of engineered features \n",
    "    \"\"\"\n",
    "    \n",
    "    # parse input \n",
    "    seeds, tourney_results = input_data['seeds'], input_data['tourney_results']\n",
    "    season_start, season_end = seasons \n",
    "    \n",
    "    # generate matchups \n",
    "    df = create_match_ups(seeds, seasons=seasons)\n",
    "    \n",
    "    # discard data from older seasons \n",
    "    if ignore_before:\n",
    "        tourney_results = tourney_results[tourney_results['Season'] >= ignore_before ]\n",
    "    \n",
    "    # engineer and append features \n",
    "    tourney_results_reformatted = reformat_results(tourney_results)\n",
    "    df = append_seed_features(df, seeds)\n",
    "    df = append_tourney_head_to_head(df, tourney_results_reformatted)\n",
    "    df = append_ranking_features(df, public_rankings)\n",
    "    df = append_pedigree_features(df, tourney_results_reformatted) # TODO: decouple this step to use full results \n",
    "    \n",
    "    if train is True: \n",
    "        df = append_labels(df, tourney_results_reformatted)\n",
    "    \n",
    "    return df"
   ]
  },
  {
   "cell_type": "markdown",
   "metadata": {},
   "source": [
    "# Fit Model"
   ]
  },
  {
   "cell_type": "markdown",
   "metadata": {},
   "source": [
    "### Helper Functions "
   ]
  },
  {
   "cell_type": "code",
   "execution_count": null,
   "metadata": {},
   "outputs": [],
   "source": [
    "# here we define a train/test split function to use all data preceding each season to train a model \n",
    "\n",
    "def train_test_period_split(data, season_to_predict, season_to_start): \n",
    "    \"\"\" Split data into train vs. test datasets. \n",
    "        - Test set comprises only the single season specified; \n",
    "        - Train set comprises all data between season_to_start through the season before the one to predict on \n",
    "    \"\"\"\n",
    "    \n",
    "    train_data = data.query(\"Season >= @season_to_start & Season < @season_to_predict\")\n",
    "    test_data = data.query(\"Season == @season_to_predict\")\n",
    "\n",
    "    return train_data, test_data"
   ]
  },
  {
   "cell_type": "code",
   "execution_count": null,
   "metadata": {},
   "outputs": [],
   "source": [
    "def iterative_train(model, seasons_to_predict, data, features, season_to_start): \n",
    "    \"\"\" For each season to predict, instantiate the model and fit to a different train set using all prior seasons \n",
    "        (beginning from season_to_start). Returns a dictionary with {season:model} value pairs. \n",
    "    \"\"\"\n",
    "    models = {} \n",
    "    for season in seasons_to_predict:\n",
    "        train_data, _ = train_test_period_split(data, season, season_to_start)\n",
    "        X_train, y_train = train_data[features], train_data['Won']\n",
    "        models[season] = clone(model)\n",
    "        models[season].fit(X_train, y_train)\n",
    "    \n",
    "    return models \n",
    "\n",
    "def iterative_predict(models, seasons_to_predict, data, features, season_to_start):\n",
    "    \"\"\" Iterate over list of models and predict on each relevant season. \n",
    "        Returns a subset of data (of relevant seasons) with prediction appended as a new column. \n",
    "    \"\"\"\n",
    "    pred_dfs = []\n",
    "    \n",
    "    for season in seasons_to_predict: \n",
    "        _, test_data = train_test_period_split(data, season, season_to_start)\n",
    "        df = test_data.copy() \n",
    "        df['Pred'] = models[season].predict_proba(df[features])[:,1]\n",
    "        pred_dfs.append(df)\n",
    "        \n",
    "    return pd.concat(pred_dfs)"
   ]
  },
  {
   "cell_type": "code",
   "execution_count": null,
   "metadata": {},
   "outputs": [],
   "source": [
    "def evaluate_predictions(y_true, y_score, cls_threshold=.5, plot=False):\n",
    "    \"\"\" Given labels and predictions, return a dictionary with classifier evaluation metrics. \n",
    "        Optionally, plot ROC and Precision-Recall curves. \n",
    "    \"\"\"\n",
    "    \n",
    "    y_pred = y_score > cls_threshold\n",
    "    metrics = {} \n",
    "    metrics['LogLoss'] = log_loss(y_true, y_score)\n",
    "    metrics['AuROC'] = roc_auc_score(y_true, y_score)\n",
    "    metrics['AuPR'] = average_precision_score(y_true, y_score)\n",
    "    metrics['BalancedAcc'] = balanced_accuracy_score(y_true, y_pred)\n",
    "    metrics['Precision'] = precision_score(y_true, y_pred)\n",
    "    metrics['Recall'] = recall_score(y_true, y_pred)\n",
    "    metrics['F1'] = f1_score(y_true, y_pred)\n",
    "    \n",
    "    if plot: \n",
    "        fig, axes = plt.subplots(nrows=1, ncols=2, figsize=(14,5))\n",
    "        color1 = list(plt.rcParams['axes.prop_cycle'])[0]['color']\n",
    "        color2 = list(plt.rcParams['axes.prop_cycle'])[1]['color']\n",
    "        \n",
    "        # TODO: refactor curve plotting code \n",
    "        # plot roc curve \n",
    "        fpr, tpr, thresholds = roc_curve(y_true, y_score)\n",
    "        axes[0].plot(fpr, tpr, color=color1, lw=2, \n",
    "                     label='ROC curve (AuROC = %0.3f)' % metrics['AuROC'])\n",
    "        axes[0].plot([0, 1], [0, 1], color='grey', lw=2, linestyle='--', label='No Skill')\n",
    "        axes[0].set_xlim([0.0, 1.0])\n",
    "        axes[0].set_ylim([0.0, 1.05])\n",
    "        axes[0].set_xlabel('False Positive Rate')\n",
    "        axes[0].set_ylabel('True Positive Rate')\n",
    "        axes[0].set_title('ROC Curve')\n",
    "        axes[0].legend(loc=\"lower right\")\n",
    "        \n",
    "        # plot precision-recall curve \n",
    "        precisions, recalls, thresholds = precision_recall_curve(y_true, y_score)\n",
    "        axes[1].plot(recalls, precisions, color=color2, lw=2, \n",
    "                     label='Precision-Recall Curve (AuPR = %0.3f)' % metrics['AuPR'])\n",
    "        no_skill = sum(y_true) / len(y_true)\n",
    "        axes[1].plot([0, 1], [no_skill, no_skill], color='grey', lw=2, linestyle='--', label='No Skill')\n",
    "        axes[1].set_xlim([0.0, 1.0])\n",
    "        axes[1].set_ylim([0.0, 1.05])\n",
    "        axes[1].set_xlabel('Recall')\n",
    "        axes[1].set_ylabel('Precision')\n",
    "        axes[1].set_title('Precision-Recall Curve')\n",
    "        axes[1].legend(loc=\"lower right\")        \n",
    "        \n",
    "    return metrics "
   ]
  },
  {
   "cell_type": "code",
   "execution_count": null,
   "metadata": {},
   "outputs": [],
   "source": [
    "train_data = construct_dataset(seasons=(2003, 2019))\n",
    "seasons_to_predict = [2015,2016,2017,2018,2019]\n",
    "season_to_start = 2003"
   ]
  },
  {
   "cell_type": "markdown",
   "metadata": {},
   "source": [
    "### Baseline Model (1): Logistic Regression w/ SeedDiff Only"
   ]
  },
  {
   "cell_type": "code",
   "execution_count": null,
   "metadata": {},
   "outputs": [],
   "source": [
    "lr1_features = ['SeedDiff']\n",
    "lr1 = LogisticRegression()\n",
    "lr1_models = iterative_train(lr1, seasons_to_predict, train_data, lr1_features, season_to_start)\n",
    "lr1_preds = iterative_predict(lr1_models, seasons_to_predict, train_data, lr1_features, season_to_start)\n",
    "evaluate_predictions(lr1_preds['Won'], lr1_preds['Pred'], cls_threshold=.5, plot=True)"
   ]
  },
  {
   "cell_type": "code",
   "execution_count": null,
   "metadata": {},
   "outputs": [],
   "source": [
    "lr2_features = ['SeedDiff','RankDiffMAX']\n",
    "lr2 = LogisticRegression()\n",
    "lr2_models = iterative_train(lr2, seasons_to_predict, train_data, lr2_features, season_to_start)\n",
    "lr2_preds = iterative_predict(lr2_models, seasons_to_predict, train_data, lr2_features, season_to_start)\n",
    "evaluate_predictions(lr2_preds['Won'], lr2_preds['Pred'], cls_threshold=.5, plot=True)"
   ]
  },
  {
   "cell_type": "code",
   "execution_count": null,
   "metadata": {},
   "outputs": [],
   "source": [
    "lr3_features = ['SeedDiff','RankDiffMAX', 'PedigreeDiff'] # make sure no leakage \n",
    "lr3 = LogisticRegression()\n",
    "lr3_models = iterative_train(lr3, seasons_to_predict, train_data, lr3_features, season_to_start)\n",
    "lr3_preds = iterative_predict(lr3_models, seasons_to_predict, train_data, lr3_features, season_to_start)\n",
    "evaluate_predictions(lr3_preds['Won'], lr3_preds['Pred'], cls_threshold=.5, plot=True)"
   ]
  },
  {
   "cell_type": "markdown",
   "metadata": {},
   "source": [
    "### Gradient Boosting (CatBoost) "
   ]
  },
  {
   "cell_type": "code",
   "execution_count": null,
   "metadata": {},
   "outputs": [],
   "source": [
    "cb_features = ['SeedDiff']\n",
    "cb = CatBoostClassifier(loss_function='Logloss', early_stopping_rounds=50, logging_level='Silent')\n",
    "cb_models = iterative_train(cb, seasons_to_predict, train_data, cb_features, season_to_start)\n",
    "cb_preds = iterative_predict(cb_models, seasons_to_predict, train_data, cb_features, season_to_start)\n",
    "evaluate_predictions(cb_preds['Won'], cb_preds['Pred'], cls_threshold=.5, plot=True)"
   ]
  },
  {
   "cell_type": "code",
   "execution_count": null,
   "metadata": {},
   "outputs": [],
   "source": [
    "cb_features = ['SeedDiff','RankDiffAVG']\n",
    "cb = CatBoostClassifier(loss_function='Logloss', early_stopping_rounds=50, logging_level='Silent')\n",
    "cb_models = iterative_train(cb, seasons_to_predict, train_data, cb_features, season_to_start)\n",
    "cb_preds = iterative_predict(cb_models, seasons_to_predict, train_data, cb_features, season_to_start)\n",
    "evaluate_predictions(cb_preds['Won'], cb_preds['Pred'], cls_threshold=.5, plot=True)"
   ]
  },
  {
   "cell_type": "markdown",
   "metadata": {},
   "source": [
    "### Logistic Regression w/ StatsModels "
   ]
  },
  {
   "cell_type": "code",
   "execution_count": null,
   "metadata": {},
   "outputs": [],
   "source": [
    "import statsmodels.discrete.discrete_model as sm\n",
    "train, _ = train_test_period_split(data=train_data, season_to_predict=2016, season_to_start=season_to_start)\n",
    "X_train, y_train = train[lr3_features], train['Won']\n",
    "logit = sm.Logit(y_train, X_train)\n",
    "logit.fit().summary()"
   ]
  },
  {
   "cell_type": "markdown",
   "metadata": {},
   "source": [
    "# Output Predictions"
   ]
  },
  {
   "cell_type": "markdown",
   "metadata": {},
   "source": [
    "Here we output the predictions in the format required by Kaggle. For every possible pair-wise matchup between teams that qualified for March Madness each season, we need to predict the probability that the lower-ID team wins. Our prediction output comprises a CSV with two columns: ID, Pred "
   ]
  },
  {
   "cell_type": "code",
   "execution_count": null,
   "metadata": {},
   "outputs": [],
   "source": [
    "# check submission format for Round 1 \n",
    "sample_pred = pd.read_csv('data/MSampleSubmissionStage1_2020.csv')\n",
    "display(sample_pred.head())\n",
    "print(len(sample_pred))"
   ]
  },
  {
   "cell_type": "code",
   "execution_count": null,
   "metadata": {},
   "outputs": [],
   "source": [
    "# TODO: create a function \n",
    "# TODO: refactor seasons_to_predict to use same input as create_match_ups\n",
    "# TODO: double check contains same IDs as sample predictions, maybe also reorder \n",
    "new = create_match_ups(seeds, seasons=[2015,2019])\n",
    "new = append_seed_features(new, seeds)\n",
    "new = append_tourney_head_to_head(new, tourney_results_reformatted)\n",
    "new_preds = iterative_predict(lr2_models, seasons_to_predict, new, lr2_features)\n",
    "new_preds = new_preds[['ID', 'Pred']]\n",
    "display(new_preds.head())\n",
    "new_preds.to_csv('my_predictions_stage1.csv', index=False)"
   ]
  },
  {
   "cell_type": "code",
   "execution_count": null,
   "metadata": {},
   "outputs": [],
   "source": []
  }
 ],
 "metadata": {
  "kernelspec": {
   "display_name": "Python 3",
   "language": "python",
   "name": "python3"
  },
  "language_info": {
   "codemirror_mode": {
    "name": "ipython",
    "version": 3
   },
   "file_extension": ".py",
   "mimetype": "text/x-python",
   "name": "python",
   "nbconvert_exporter": "python",
   "pygments_lexer": "ipython3",
   "version": "3.7.3"
  }
 },
 "nbformat": 4,
 "nbformat_minor": 2
}
