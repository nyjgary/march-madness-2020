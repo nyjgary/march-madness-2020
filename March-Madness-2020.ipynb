{
 "cells": [
  {
   "cell_type": "code",
   "execution_count": 1,
   "metadata": {},
   "outputs": [],
   "source": [
    "import numpy as np\n",
    "import pandas as pd\n",
    "import matplotlib.pyplot as plt \n",
    "%matplotlib inline\n",
    "import seaborn as sns\n",
    "plt.style.use('ggplot')"
   ]
  },
  {
   "cell_type": "code",
   "execution_count": 2,
   "metadata": {},
   "outputs": [
    {
     "data": {
      "text/html": [
       "<div>\n",
       "<style scoped>\n",
       "    .dataframe tbody tr th:only-of-type {\n",
       "        vertical-align: middle;\n",
       "    }\n",
       "\n",
       "    .dataframe tbody tr th {\n",
       "        vertical-align: top;\n",
       "    }\n",
       "\n",
       "    .dataframe thead th {\n",
       "        text-align: right;\n",
       "    }\n",
       "</style>\n",
       "<table border=\"1\" class=\"dataframe\">\n",
       "  <thead>\n",
       "    <tr style=\"text-align: right;\">\n",
       "      <th></th>\n",
       "      <th>ID</th>\n",
       "      <th>Pred</th>\n",
       "    </tr>\n",
       "  </thead>\n",
       "  <tbody>\n",
       "    <tr>\n",
       "      <th>0</th>\n",
       "      <td>2015_1107_1112</td>\n",
       "      <td>0.5</td>\n",
       "    </tr>\n",
       "    <tr>\n",
       "      <th>1</th>\n",
       "      <td>2015_1107_1116</td>\n",
       "      <td>0.5</td>\n",
       "    </tr>\n",
       "    <tr>\n",
       "      <th>2</th>\n",
       "      <td>2015_1107_1124</td>\n",
       "      <td>0.5</td>\n",
       "    </tr>\n",
       "    <tr>\n",
       "      <th>3</th>\n",
       "      <td>2015_1107_1125</td>\n",
       "      <td>0.5</td>\n",
       "    </tr>\n",
       "    <tr>\n",
       "      <th>4</th>\n",
       "      <td>2015_1107_1129</td>\n",
       "      <td>0.5</td>\n",
       "    </tr>\n",
       "  </tbody>\n",
       "</table>\n",
       "</div>"
      ],
      "text/plain": [
       "               ID  Pred\n",
       "0  2015_1107_1112   0.5\n",
       "1  2015_1107_1116   0.5\n",
       "2  2015_1107_1124   0.5\n",
       "3  2015_1107_1125   0.5\n",
       "4  2015_1107_1129   0.5"
      ]
     },
     "metadata": {},
     "output_type": "display_data"
    },
    {
     "name": "stdout",
     "output_type": "stream",
     "text": [
      "11390\n"
     ]
    }
   ],
   "source": [
    "# check submission format for Round 1 \n",
    "sample_pred = pd.read_csv('data/MSampleSubmissionStage1_2020.csv')\n",
    "display(sample_pred.head())\n",
    "print(len(sample_pred))"
   ]
  },
  {
   "cell_type": "markdown",
   "metadata": {},
   "source": [
    "# Import Data"
   ]
  },
  {
   "cell_type": "code",
   "execution_count": 174,
   "metadata": {},
   "outputs": [
    {
     "name": "stdout",
     "output_type": "stream",
     "text": [
      "<class 'pandas.core.frame.DataFrame'>\n",
      "RangeIndex: 2251 entries, 0 to 2250\n",
      "Data columns (total 8 columns):\n",
      "Season     2251 non-null int64\n",
      "DayNum     2251 non-null int64\n",
      "WTeamID    2251 non-null int64\n",
      "WScore     2251 non-null int64\n",
      "LTeamID    2251 non-null int64\n",
      "LScore     2251 non-null int64\n",
      "WLoc       2251 non-null object\n",
      "NumOT      2251 non-null int64\n",
      "dtypes: int64(7), object(1)\n",
      "memory usage: 140.8+ KB\n"
     ]
    },
    {
     "data": {
      "text/html": [
       "<div>\n",
       "<style scoped>\n",
       "    .dataframe tbody tr th:only-of-type {\n",
       "        vertical-align: middle;\n",
       "    }\n",
       "\n",
       "    .dataframe tbody tr th {\n",
       "        vertical-align: top;\n",
       "    }\n",
       "\n",
       "    .dataframe thead th {\n",
       "        text-align: right;\n",
       "    }\n",
       "</style>\n",
       "<table border=\"1\" class=\"dataframe\">\n",
       "  <thead>\n",
       "    <tr style=\"text-align: right;\">\n",
       "      <th></th>\n",
       "      <th>Season</th>\n",
       "      <th>DayNum</th>\n",
       "      <th>WTeamID</th>\n",
       "      <th>WScore</th>\n",
       "      <th>LTeamID</th>\n",
       "      <th>LScore</th>\n",
       "      <th>WLoc</th>\n",
       "      <th>NumOT</th>\n",
       "    </tr>\n",
       "  </thead>\n",
       "  <tbody>\n",
       "    <tr>\n",
       "      <th>0</th>\n",
       "      <td>1985</td>\n",
       "      <td>136</td>\n",
       "      <td>1116</td>\n",
       "      <td>63</td>\n",
       "      <td>1234</td>\n",
       "      <td>54</td>\n",
       "      <td>N</td>\n",
       "      <td>0</td>\n",
       "    </tr>\n",
       "    <tr>\n",
       "      <th>1</th>\n",
       "      <td>1985</td>\n",
       "      <td>136</td>\n",
       "      <td>1120</td>\n",
       "      <td>59</td>\n",
       "      <td>1345</td>\n",
       "      <td>58</td>\n",
       "      <td>N</td>\n",
       "      <td>0</td>\n",
       "    </tr>\n",
       "    <tr>\n",
       "      <th>2</th>\n",
       "      <td>1985</td>\n",
       "      <td>136</td>\n",
       "      <td>1207</td>\n",
       "      <td>68</td>\n",
       "      <td>1250</td>\n",
       "      <td>43</td>\n",
       "      <td>N</td>\n",
       "      <td>0</td>\n",
       "    </tr>\n",
       "    <tr>\n",
       "      <th>3</th>\n",
       "      <td>1985</td>\n",
       "      <td>136</td>\n",
       "      <td>1229</td>\n",
       "      <td>58</td>\n",
       "      <td>1425</td>\n",
       "      <td>55</td>\n",
       "      <td>N</td>\n",
       "      <td>0</td>\n",
       "    </tr>\n",
       "    <tr>\n",
       "      <th>4</th>\n",
       "      <td>1985</td>\n",
       "      <td>136</td>\n",
       "      <td>1242</td>\n",
       "      <td>49</td>\n",
       "      <td>1325</td>\n",
       "      <td>38</td>\n",
       "      <td>N</td>\n",
       "      <td>0</td>\n",
       "    </tr>\n",
       "  </tbody>\n",
       "</table>\n",
       "</div>"
      ],
      "text/plain": [
       "   Season  DayNum  WTeamID  WScore  LTeamID  LScore WLoc  NumOT\n",
       "0    1985     136     1116      63     1234      54    N      0\n",
       "1    1985     136     1120      59     1345      58    N      0\n",
       "2    1985     136     1207      68     1250      43    N      0\n",
       "3    1985     136     1229      58     1425      55    N      0\n",
       "4    1985     136     1242      49     1325      38    N      0"
      ]
     },
     "execution_count": 174,
     "metadata": {},
     "output_type": "execute_result"
    }
   ],
   "source": [
    "tourney_results = pd.read_csv('data/MDataFiles_Stage1/MNCAATourneyCompactResults.csv')\n",
    "tourney_results.info()\n",
    "tourney_results.head()"
   ]
  },
  {
   "cell_type": "code",
   "execution_count": 175,
   "metadata": {},
   "outputs": [
    {
     "name": "stdout",
     "output_type": "stream",
     "text": [
      "<class 'pandas.core.frame.DataFrame'>\n",
      "RangeIndex: 367 entries, 0 to 366\n",
      "Data columns (total 4 columns):\n",
      "TeamID           367 non-null int64\n",
      "TeamName         367 non-null object\n",
      "FirstD1Season    367 non-null int64\n",
      "LastD1Season     367 non-null int64\n",
      "dtypes: int64(3), object(1)\n",
      "memory usage: 11.5+ KB\n"
     ]
    },
    {
     "data": {
      "text/html": [
       "<div>\n",
       "<style scoped>\n",
       "    .dataframe tbody tr th:only-of-type {\n",
       "        vertical-align: middle;\n",
       "    }\n",
       "\n",
       "    .dataframe tbody tr th {\n",
       "        vertical-align: top;\n",
       "    }\n",
       "\n",
       "    .dataframe thead th {\n",
       "        text-align: right;\n",
       "    }\n",
       "</style>\n",
       "<table border=\"1\" class=\"dataframe\">\n",
       "  <thead>\n",
       "    <tr style=\"text-align: right;\">\n",
       "      <th></th>\n",
       "      <th>TeamID</th>\n",
       "      <th>TeamName</th>\n",
       "      <th>FirstD1Season</th>\n",
       "      <th>LastD1Season</th>\n",
       "    </tr>\n",
       "  </thead>\n",
       "  <tbody>\n",
       "    <tr>\n",
       "      <th>80</th>\n",
       "      <td>1181</td>\n",
       "      <td>Duke</td>\n",
       "      <td>1985</td>\n",
       "      <td>2020</td>\n",
       "    </tr>\n",
       "    <tr>\n",
       "      <th>213</th>\n",
       "      <td>1314</td>\n",
       "      <td>North Carolina</td>\n",
       "      <td>1985</td>\n",
       "      <td>2020</td>\n",
       "    </tr>\n",
       "  </tbody>\n",
       "</table>\n",
       "</div>"
      ],
      "text/plain": [
       "     TeamID        TeamName  FirstD1Season  LastD1Season\n",
       "80     1181            Duke           1985          2020\n",
       "213    1314  North Carolina           1985          2020"
      ]
     },
     "execution_count": 175,
     "metadata": {},
     "output_type": "execute_result"
    }
   ],
   "source": [
    "teams = pd.read_csv('data/MDataFiles_Stage1/MTeams.csv')\n",
    "teams.info()\n",
    "teams[teams['TeamName'].str.contains('Duke|North Carolina')]"
   ]
  },
  {
   "cell_type": "code",
   "execution_count": 176,
   "metadata": {},
   "outputs": [
    {
     "name": "stdout",
     "output_type": "stream",
     "text": [
      "<class 'pandas.core.frame.DataFrame'>\n",
      "RangeIndex: 161552 entries, 0 to 161551\n",
      "Data columns (total 8 columns):\n",
      "Season     161552 non-null int64\n",
      "DayNum     161552 non-null int64\n",
      "WTeamID    161552 non-null int64\n",
      "WScore     161552 non-null int64\n",
      "LTeamID    161552 non-null int64\n",
      "LScore     161552 non-null int64\n",
      "WLoc       161552 non-null object\n",
      "NumOT      161552 non-null int64\n",
      "dtypes: int64(7), object(1)\n",
      "memory usage: 9.9+ MB\n"
     ]
    },
    {
     "data": {
      "text/html": [
       "<div>\n",
       "<style scoped>\n",
       "    .dataframe tbody tr th:only-of-type {\n",
       "        vertical-align: middle;\n",
       "    }\n",
       "\n",
       "    .dataframe tbody tr th {\n",
       "        vertical-align: top;\n",
       "    }\n",
       "\n",
       "    .dataframe thead th {\n",
       "        text-align: right;\n",
       "    }\n",
       "</style>\n",
       "<table border=\"1\" class=\"dataframe\">\n",
       "  <thead>\n",
       "    <tr style=\"text-align: right;\">\n",
       "      <th></th>\n",
       "      <th>Season</th>\n",
       "      <th>DayNum</th>\n",
       "      <th>WTeamID</th>\n",
       "      <th>WScore</th>\n",
       "      <th>LTeamID</th>\n",
       "      <th>LScore</th>\n",
       "      <th>WLoc</th>\n",
       "      <th>NumOT</th>\n",
       "    </tr>\n",
       "  </thead>\n",
       "  <tbody>\n",
       "    <tr>\n",
       "      <th>0</th>\n",
       "      <td>1985</td>\n",
       "      <td>20</td>\n",
       "      <td>1228</td>\n",
       "      <td>81</td>\n",
       "      <td>1328</td>\n",
       "      <td>64</td>\n",
       "      <td>N</td>\n",
       "      <td>0</td>\n",
       "    </tr>\n",
       "    <tr>\n",
       "      <th>1</th>\n",
       "      <td>1985</td>\n",
       "      <td>25</td>\n",
       "      <td>1106</td>\n",
       "      <td>77</td>\n",
       "      <td>1354</td>\n",
       "      <td>70</td>\n",
       "      <td>H</td>\n",
       "      <td>0</td>\n",
       "    </tr>\n",
       "    <tr>\n",
       "      <th>2</th>\n",
       "      <td>1985</td>\n",
       "      <td>25</td>\n",
       "      <td>1112</td>\n",
       "      <td>63</td>\n",
       "      <td>1223</td>\n",
       "      <td>56</td>\n",
       "      <td>H</td>\n",
       "      <td>0</td>\n",
       "    </tr>\n",
       "    <tr>\n",
       "      <th>3</th>\n",
       "      <td>1985</td>\n",
       "      <td>25</td>\n",
       "      <td>1165</td>\n",
       "      <td>70</td>\n",
       "      <td>1432</td>\n",
       "      <td>54</td>\n",
       "      <td>H</td>\n",
       "      <td>0</td>\n",
       "    </tr>\n",
       "    <tr>\n",
       "      <th>4</th>\n",
       "      <td>1985</td>\n",
       "      <td>25</td>\n",
       "      <td>1192</td>\n",
       "      <td>86</td>\n",
       "      <td>1447</td>\n",
       "      <td>74</td>\n",
       "      <td>H</td>\n",
       "      <td>0</td>\n",
       "    </tr>\n",
       "  </tbody>\n",
       "</table>\n",
       "</div>"
      ],
      "text/plain": [
       "   Season  DayNum  WTeamID  WScore  LTeamID  LScore WLoc  NumOT\n",
       "0    1985      20     1228      81     1328      64    N      0\n",
       "1    1985      25     1106      77     1354      70    H      0\n",
       "2    1985      25     1112      63     1223      56    H      0\n",
       "3    1985      25     1165      70     1432      54    H      0\n",
       "4    1985      25     1192      86     1447      74    H      0"
      ]
     },
     "execution_count": 176,
     "metadata": {},
     "output_type": "execute_result"
    }
   ],
   "source": [
    "regular_results = pd.read_csv('data/MDataFiles_Stage1/MRegularSeasonCompactResults.csv')\n",
    "regular_results.info()\n",
    "regular_results.head()"
   ]
  },
  {
   "cell_type": "code",
   "execution_count": 200,
   "metadata": {},
   "outputs": [
    {
     "name": "stdout",
     "output_type": "stream",
     "text": [
      "<class 'pandas.core.frame.DataFrame'>\n",
      "RangeIndex: 2286 entries, 0 to 2285\n",
      "Data columns (total 3 columns):\n",
      "Season    2286 non-null int64\n",
      "Seed      2286 non-null object\n",
      "TeamID    2286 non-null int64\n",
      "dtypes: int64(2), object(1)\n",
      "memory usage: 53.7+ KB\n"
     ]
    },
    {
     "data": {
      "text/html": [
       "<div>\n",
       "<style scoped>\n",
       "    .dataframe tbody tr th:only-of-type {\n",
       "        vertical-align: middle;\n",
       "    }\n",
       "\n",
       "    .dataframe tbody tr th {\n",
       "        vertical-align: top;\n",
       "    }\n",
       "\n",
       "    .dataframe thead th {\n",
       "        text-align: right;\n",
       "    }\n",
       "</style>\n",
       "<table border=\"1\" class=\"dataframe\">\n",
       "  <thead>\n",
       "    <tr style=\"text-align: right;\">\n",
       "      <th></th>\n",
       "      <th>Season</th>\n",
       "      <th>Seed</th>\n",
       "      <th>TeamID</th>\n",
       "    </tr>\n",
       "  </thead>\n",
       "  <tbody>\n",
       "    <tr>\n",
       "      <th>0</th>\n",
       "      <td>1985</td>\n",
       "      <td>W01</td>\n",
       "      <td>1207</td>\n",
       "    </tr>\n",
       "    <tr>\n",
       "      <th>1</th>\n",
       "      <td>1985</td>\n",
       "      <td>W02</td>\n",
       "      <td>1210</td>\n",
       "    </tr>\n",
       "    <tr>\n",
       "      <th>2</th>\n",
       "      <td>1985</td>\n",
       "      <td>W03</td>\n",
       "      <td>1228</td>\n",
       "    </tr>\n",
       "    <tr>\n",
       "      <th>3</th>\n",
       "      <td>1985</td>\n",
       "      <td>W04</td>\n",
       "      <td>1260</td>\n",
       "    </tr>\n",
       "    <tr>\n",
       "      <th>4</th>\n",
       "      <td>1985</td>\n",
       "      <td>W05</td>\n",
       "      <td>1374</td>\n",
       "    </tr>\n",
       "  </tbody>\n",
       "</table>\n",
       "</div>"
      ],
      "text/plain": [
       "   Season Seed  TeamID\n",
       "0    1985  W01    1207\n",
       "1    1985  W02    1210\n",
       "2    1985  W03    1228\n",
       "3    1985  W04    1260\n",
       "4    1985  W05    1374"
      ]
     },
     "execution_count": 200,
     "metadata": {},
     "output_type": "execute_result"
    }
   ],
   "source": [
    "seeds = pd.read_csv('data/MDataFiles_Stage1/MNCAATourneySeeds.csv')\n",
    "seeds.info()\n",
    "seeds.head()"
   ]
  },
  {
   "cell_type": "markdown",
   "metadata": {},
   "source": [
    "# Helper Functions"
   ]
  },
  {
   "cell_type": "code",
   "execution_count": 290,
   "metadata": {},
   "outputs": [],
   "source": [
    "def clf_eda_numeric(data, feature, target='Won'):\n",
    "    \"\"\" Creates EDA plots for a binary target vs. a select numeric feature \"\"\"\n",
    "    \n",
    "    # set up axes and define attributes \n",
    "    fig, axes = plt.subplots(nrows=2, ncols=2, figsize=(14,8))\n",
    "    neutral_color = list(plt.rcParams['axes.prop_cycle'])[3]['color']\n",
    "    \n",
    "    # top-left: boxplot \n",
    "    sns.boxplot(x=target, y=feature, data=data, ax=axes[0,0]) \n",
    "    \n",
    "    # top-right: overlapping density plots, 1 for each class  \n",
    "    for y in [0,1]:\n",
    "        subset = data[data[target]==y]\n",
    "        sns.distplot(subset[feature], label=y, ax=axes[0,1])\n",
    "        xmin, xmax = data[feature].min(), data[feature].max()\n",
    "        axes[0,1].set_xlim(xmin, xmax)\n",
    "        axes[0,1].set_ylabel('Density')\n",
    "        axes[0,1].legend()\n",
    "        \n",
    "    # bottom-left: line plot of average target by feature value  \n",
    "    sns.lineplot(x=feature, y=target, color=neutral_color, data=data, ax=axes[1,0])\n",
    "    \n",
    "    # bottom-right: histogram of combined data \n",
    "    sns.distplot(data[feature], kde=False, norm_hist=True, label='Density', color=neutral_color, ax=axes[1,1])"
   ]
  },
  {
   "cell_type": "markdown",
   "metadata": {},
   "source": [
    "# Construct Dataset + EDA"
   ]
  },
  {
   "cell_type": "markdown",
   "metadata": {},
   "source": [
    "### Create IDs and Labels"
   ]
  },
  {
   "cell_type": "markdown",
   "metadata": {},
   "source": [
    "Each observation in our dataset is a March Madness match-up between two teams in a particular season, uniquely identified by a SSSS_XXXX_YYYY ID, where SSSS is the four digit season number, XXXX is the four-digit TeamID of the lower-ID team, and YYYY is the four-digit TeamID of the higher-ID team. The label of this observation is the outcome of the game, indicating whether the lower-ID team wins (1) or loses (0). "
   ]
  },
  {
   "cell_type": "code",
   "execution_count": 291,
   "metadata": {},
   "outputs": [],
   "source": [
    "def reformat_obs(tourney_results):\n",
    "    \"\"\" Given tourney results, reformat and append dataframe with unique ID and label \"\"\"\n",
    "    \n",
    "    data = tourney_results.assign(\n",
    "        TeamA = lambda x: x[['WTeamID','LTeamID']].min(axis=1), \n",
    "        TeamB = lambda x: x[['WTeamID','LTeamID']].max(axis=1), \n",
    "        Teams = lambda x: x['TeamA'].astype(str) + '_' + x['TeamB'].astype(str),\n",
    "        ID = lambda x: x['Season'].astype(str) + '_' + x['Teams'],\n",
    "        Won = lambda x: np.where(x['WTeamID'] < x['LTeamID'], 1, 0),\n",
    "        ScoreTeamA = lambda x: np.where(x['WTeamID'] == x['TeamA'], x['WScore'], x['LScore']),\n",
    "        ScoreTeamB = lambda x: np.where(x['WTeamID'] == x['TeamB'], x['WScore'], x['LScore']),\n",
    "        ScoreDiff = lambda x: x['ScoreTeamA'] - x['ScoreTeamB']\n",
    "    )\n",
    "    \n",
    "    cols_to_return = ['ID', 'Season', 'TeamA', 'TeamB', 'Teams', 'Won', \n",
    "                      'ScoreTeamA', 'ScoreTeamB', 'ScoreDiff', 'DayNum', 'NumOT', 'WLoc']\n",
    "    \n",
    "    return data[cols_to_return] "
   ]
  },
  {
   "cell_type": "code",
   "execution_count": 292,
   "metadata": {},
   "outputs": [
    {
     "name": "stdout",
     "output_type": "stream",
     "text": [
      "<class 'pandas.core.frame.DataFrame'>\n",
      "RangeIndex: 2251 entries, 0 to 2250\n",
      "Data columns (total 12 columns):\n",
      "ID            2251 non-null object\n",
      "Season        2251 non-null int64\n",
      "TeamA         2251 non-null int64\n",
      "TeamB         2251 non-null int64\n",
      "Teams         2251 non-null object\n",
      "Won           2251 non-null int64\n",
      "ScoreTeamA    2251 non-null int64\n",
      "ScoreTeamB    2251 non-null int64\n",
      "ScoreDiff     2251 non-null int64\n",
      "DayNum        2251 non-null int64\n",
      "NumOT         2251 non-null int64\n",
      "WLoc          2251 non-null object\n",
      "dtypes: int64(9), object(3)\n",
      "memory usage: 211.1+ KB\n"
     ]
    },
    {
     "data": {
      "text/html": [
       "<div>\n",
       "<style scoped>\n",
       "    .dataframe tbody tr th:only-of-type {\n",
       "        vertical-align: middle;\n",
       "    }\n",
       "\n",
       "    .dataframe tbody tr th {\n",
       "        vertical-align: top;\n",
       "    }\n",
       "\n",
       "    .dataframe thead th {\n",
       "        text-align: right;\n",
       "    }\n",
       "</style>\n",
       "<table border=\"1\" class=\"dataframe\">\n",
       "  <thead>\n",
       "    <tr style=\"text-align: right;\">\n",
       "      <th></th>\n",
       "      <th>ID</th>\n",
       "      <th>Season</th>\n",
       "      <th>TeamA</th>\n",
       "      <th>TeamB</th>\n",
       "      <th>Teams</th>\n",
       "      <th>Won</th>\n",
       "      <th>ScoreTeamA</th>\n",
       "      <th>ScoreTeamB</th>\n",
       "      <th>ScoreDiff</th>\n",
       "      <th>DayNum</th>\n",
       "      <th>NumOT</th>\n",
       "      <th>WLoc</th>\n",
       "    </tr>\n",
       "  </thead>\n",
       "  <tbody>\n",
       "    <tr>\n",
       "      <th>1877</th>\n",
       "      <td>2014_1181_1273</td>\n",
       "      <td>2014</td>\n",
       "      <td>1181</td>\n",
       "      <td>1273</td>\n",
       "      <td>1181_1273</td>\n",
       "      <td>0</td>\n",
       "      <td>71</td>\n",
       "      <td>78</td>\n",
       "      <td>-7</td>\n",
       "      <td>137</td>\n",
       "      <td>0</td>\n",
       "      <td>N</td>\n",
       "    </tr>\n",
       "    <tr>\n",
       "      <th>1612</th>\n",
       "      <td>2010_1393_1436</td>\n",
       "      <td>2010</td>\n",
       "      <td>1393</td>\n",
       "      <td>1436</td>\n",
       "      <td>1393_1436</td>\n",
       "      <td>1</td>\n",
       "      <td>79</td>\n",
       "      <td>56</td>\n",
       "      <td>23</td>\n",
       "      <td>137</td>\n",
       "      <td>0</td>\n",
       "      <td>N</td>\n",
       "    </tr>\n",
       "    <tr>\n",
       "      <th>1205</th>\n",
       "      <td>2004_1211_1434</td>\n",
       "      <td>2004</td>\n",
       "      <td>1211</td>\n",
       "      <td>1434</td>\n",
       "      <td>1211_1434</td>\n",
       "      <td>1</td>\n",
       "      <td>76</td>\n",
       "      <td>49</td>\n",
       "      <td>27</td>\n",
       "      <td>136</td>\n",
       "      <td>0</td>\n",
       "      <td>N</td>\n",
       "    </tr>\n",
       "    <tr>\n",
       "      <th>1021</th>\n",
       "      <td>2001_1390_1422</td>\n",
       "      <td>2001</td>\n",
       "      <td>1390</td>\n",
       "      <td>1422</td>\n",
       "      <td>1390_1422</td>\n",
       "      <td>1</td>\n",
       "      <td>89</td>\n",
       "      <td>60</td>\n",
       "      <td>29</td>\n",
       "      <td>136</td>\n",
       "      <td>0</td>\n",
       "      <td>N</td>\n",
       "    </tr>\n",
       "    <tr>\n",
       "      <th>1755</th>\n",
       "      <td>2012_1266_1293</td>\n",
       "      <td>2012</td>\n",
       "      <td>1266</td>\n",
       "      <td>1293</td>\n",
       "      <td>1266_1293</td>\n",
       "      <td>1</td>\n",
       "      <td>62</td>\n",
       "      <td>53</td>\n",
       "      <td>9</td>\n",
       "      <td>138</td>\n",
       "      <td>0</td>\n",
       "      <td>N</td>\n",
       "    </tr>\n",
       "  </tbody>\n",
       "</table>\n",
       "</div>"
      ],
      "text/plain": [
       "                  ID  Season  TeamA  TeamB      Teams  Won  ScoreTeamA  \\\n",
       "1877  2014_1181_1273    2014   1181   1273  1181_1273    0          71   \n",
       "1612  2010_1393_1436    2010   1393   1436  1393_1436    1          79   \n",
       "1205  2004_1211_1434    2004   1211   1434  1211_1434    1          76   \n",
       "1021  2001_1390_1422    2001   1390   1422  1390_1422    1          89   \n",
       "1755  2012_1266_1293    2012   1266   1293  1266_1293    1          62   \n",
       "\n",
       "      ScoreTeamB  ScoreDiff  DayNum  NumOT WLoc  \n",
       "1877          78         -7     137      0    N  \n",
       "1612          56         23     137      0    N  \n",
       "1205          49         27     136      0    N  \n",
       "1021          60         29     136      0    N  \n",
       "1755          53          9     138      0    N  "
      ]
     },
     "metadata": {},
     "output_type": "display_data"
    },
    {
     "data": {
      "text/plain": [
       "1    1137\n",
       "0    1114\n",
       "Name: Won, dtype: int64"
      ]
     },
     "execution_count": 292,
     "metadata": {},
     "output_type": "execute_result"
    }
   ],
   "source": [
    "data = reformat_obs(tourney_results)\n",
    "data.info()\n",
    "display(data.sample(5))\n",
    "data['Won'].value_counts()"
   ]
  },
  {
   "cell_type": "markdown",
   "metadata": {},
   "source": [
    "### Create Seed Features"
   ]
  },
  {
   "cell_type": "markdown",
   "metadata": {},
   "source": [
    "Here we append three features to our dataset: seedings of the respective teams for that season (`SeedA` for the lower-ID team and `SeedB` for the higher-ID team) and the difference between the two (`SeedDiff`=SeedB-SeedA). We expect the latter to be one of the most predictive features of the game outcome. "
   ]
  },
  {
   "cell_type": "code",
   "execution_count": 293,
   "metadata": {},
   "outputs": [],
   "source": [
    "def append_seed_features(data, seeds):\n",
    "    \"\"\" Create seed features and append to main dataframe \"\"\"\n",
    "    seeds = seeds.copy() \n",
    "    seeds['Seed'] = seeds['Seed'].apply(lambda x: int(x[1:3]))\n",
    "    seeds = seeds.set_index(['Season', 'TeamID'])\n",
    "    df = data.merge(seeds, how='left', left_on=['Season', 'TeamA'], right_index=True)\\\n",
    "             .merge(seeds, how='left', left_on=['Season', 'TeamB'], right_index=True, suffixes=('A', 'B'))\n",
    "    df['SeedDiff'] = df['SeedB'] - df['SeedA'] \n",
    "    return df "
   ]
  },
  {
   "cell_type": "code",
   "execution_count": 294,
   "metadata": {},
   "outputs": [
    {
     "data": {
      "text/html": [
       "<div>\n",
       "<style scoped>\n",
       "    .dataframe tbody tr th:only-of-type {\n",
       "        vertical-align: middle;\n",
       "    }\n",
       "\n",
       "    .dataframe tbody tr th {\n",
       "        vertical-align: top;\n",
       "    }\n",
       "\n",
       "    .dataframe thead th {\n",
       "        text-align: right;\n",
       "    }\n",
       "</style>\n",
       "<table border=\"1\" class=\"dataframe\">\n",
       "  <thead>\n",
       "    <tr style=\"text-align: right;\">\n",
       "      <th></th>\n",
       "      <th>ID</th>\n",
       "      <th>Season</th>\n",
       "      <th>TeamA</th>\n",
       "      <th>TeamB</th>\n",
       "      <th>Teams</th>\n",
       "      <th>Won</th>\n",
       "      <th>ScoreTeamA</th>\n",
       "      <th>ScoreTeamB</th>\n",
       "      <th>ScoreDiff</th>\n",
       "      <th>DayNum</th>\n",
       "      <th>NumOT</th>\n",
       "      <th>WLoc</th>\n",
       "      <th>SeedA</th>\n",
       "      <th>SeedB</th>\n",
       "      <th>SeedDiff</th>\n",
       "    </tr>\n",
       "  </thead>\n",
       "  <tbody>\n",
       "    <tr>\n",
       "      <th>0</th>\n",
       "      <td>1985_1116_1234</td>\n",
       "      <td>1985</td>\n",
       "      <td>1116</td>\n",
       "      <td>1234</td>\n",
       "      <td>1116_1234</td>\n",
       "      <td>1</td>\n",
       "      <td>63</td>\n",
       "      <td>54</td>\n",
       "      <td>9</td>\n",
       "      <td>136</td>\n",
       "      <td>0</td>\n",
       "      <td>N</td>\n",
       "      <td>9</td>\n",
       "      <td>8</td>\n",
       "      <td>-1</td>\n",
       "    </tr>\n",
       "    <tr>\n",
       "      <th>1</th>\n",
       "      <td>1985_1120_1345</td>\n",
       "      <td>1985</td>\n",
       "      <td>1120</td>\n",
       "      <td>1345</td>\n",
       "      <td>1120_1345</td>\n",
       "      <td>1</td>\n",
       "      <td>59</td>\n",
       "      <td>58</td>\n",
       "      <td>1</td>\n",
       "      <td>136</td>\n",
       "      <td>0</td>\n",
       "      <td>N</td>\n",
       "      <td>11</td>\n",
       "      <td>6</td>\n",
       "      <td>-5</td>\n",
       "    </tr>\n",
       "    <tr>\n",
       "      <th>2</th>\n",
       "      <td>1985_1207_1250</td>\n",
       "      <td>1985</td>\n",
       "      <td>1207</td>\n",
       "      <td>1250</td>\n",
       "      <td>1207_1250</td>\n",
       "      <td>1</td>\n",
       "      <td>68</td>\n",
       "      <td>43</td>\n",
       "      <td>25</td>\n",
       "      <td>136</td>\n",
       "      <td>0</td>\n",
       "      <td>N</td>\n",
       "      <td>1</td>\n",
       "      <td>16</td>\n",
       "      <td>15</td>\n",
       "    </tr>\n",
       "    <tr>\n",
       "      <th>3</th>\n",
       "      <td>1985_1229_1425</td>\n",
       "      <td>1985</td>\n",
       "      <td>1229</td>\n",
       "      <td>1425</td>\n",
       "      <td>1229_1425</td>\n",
       "      <td>1</td>\n",
       "      <td>58</td>\n",
       "      <td>55</td>\n",
       "      <td>3</td>\n",
       "      <td>136</td>\n",
       "      <td>0</td>\n",
       "      <td>N</td>\n",
       "      <td>9</td>\n",
       "      <td>8</td>\n",
       "      <td>-1</td>\n",
       "    </tr>\n",
       "    <tr>\n",
       "      <th>4</th>\n",
       "      <td>1985_1242_1325</td>\n",
       "      <td>1985</td>\n",
       "      <td>1242</td>\n",
       "      <td>1325</td>\n",
       "      <td>1242_1325</td>\n",
       "      <td>1</td>\n",
       "      <td>49</td>\n",
       "      <td>38</td>\n",
       "      <td>11</td>\n",
       "      <td>136</td>\n",
       "      <td>0</td>\n",
       "      <td>N</td>\n",
       "      <td>3</td>\n",
       "      <td>14</td>\n",
       "      <td>11</td>\n",
       "    </tr>\n",
       "  </tbody>\n",
       "</table>\n",
       "</div>"
      ],
      "text/plain": [
       "               ID  Season  TeamA  TeamB      Teams  Won  ScoreTeamA  \\\n",
       "0  1985_1116_1234    1985   1116   1234  1116_1234    1          63   \n",
       "1  1985_1120_1345    1985   1120   1345  1120_1345    1          59   \n",
       "2  1985_1207_1250    1985   1207   1250  1207_1250    1          68   \n",
       "3  1985_1229_1425    1985   1229   1425  1229_1425    1          58   \n",
       "4  1985_1242_1325    1985   1242   1325  1242_1325    1          49   \n",
       "\n",
       "   ScoreTeamB  ScoreDiff  DayNum  NumOT WLoc  SeedA  SeedB  SeedDiff  \n",
       "0          54          9     136      0    N      9      8        -1  \n",
       "1          58          1     136      0    N     11      6        -5  \n",
       "2          43         25     136      0    N      1     16        15  \n",
       "3          55          3     136      0    N      9      8        -1  \n",
       "4          38         11     136      0    N      3     14        11  "
      ]
     },
     "execution_count": 294,
     "metadata": {},
     "output_type": "execute_result"
    }
   ],
   "source": [
    "data = append_seed_features(data, seeds)\n",
    "data.head()"
   ]
  },
  {
   "cell_type": "code",
   "execution_count": 295,
   "metadata": {},
   "outputs": [
    {
     "data": {
      "image/png": "[encoded data removed]",
      "text/plain": [
       "<Figure size 1008x576 with 4 Axes>"
      ]
     },
     "metadata": {
      "needs_background": "light"
     },
     "output_type": "display_data"
    }
   ],
   "source": [
    "clf_eda_numeric(data, feature='SeedA')"
   ]
  },
  {
   "cell_type": "code",
   "execution_count": 296,
   "metadata": {},
   "outputs": [
    {
     "data": {
      "image/png": "[encoded data removed]",
      "text/plain": [
       "<Figure size 1008x576 with 4 Axes>"
      ]
     },
     "metadata": {
      "needs_background": "light"
     },
     "output_type": "display_data"
    }
   ],
   "source": [
    "clf_eda_numeric(data, feature='SeedB')"
   ]
  },
  {
   "cell_type": "code",
   "execution_count": 297,
   "metadata": {},
   "outputs": [
    {
     "data": {
      "image/png": "[encoded data removed]",
      "text/plain": [
       "<Figure size 1008x576 with 4 Axes>"
      ]
     },
     "metadata": {
      "needs_background": "light"
     },
     "output_type": "display_data"
    }
   ],
   "source": [
    "clf_eda_numeric(data, feature='SeedDiff')"
   ]
  },
  {
   "cell_type": "markdown",
   "metadata": {},
   "source": [
    "### Create historical tourney head-to-head features "
   ]
  },
  {
   "cell_type": "code",
   "execution_count": 147,
   "metadata": {},
   "outputs": [
    {
     "data": {
      "text/html": [
       "<div>\n",
       "<style scoped>\n",
       "    .dataframe tbody tr th:only-of-type {\n",
       "        vertical-align: middle;\n",
       "    }\n",
       "\n",
       "    .dataframe tbody tr th {\n",
       "        vertical-align: top;\n",
       "    }\n",
       "\n",
       "    .dataframe thead th {\n",
       "        text-align: right;\n",
       "    }\n",
       "</style>\n",
       "<table border=\"1\" class=\"dataframe\">\n",
       "  <thead>\n",
       "    <tr style=\"text-align: right;\">\n",
       "      <th></th>\n",
       "      <th>Teams</th>\n",
       "      <th>Season</th>\n",
       "      <th>playoff_h2h_total</th>\n",
       "      <th>playoff_h2h_wins</th>\n",
       "      <th>playoff_h2h_losses</th>\n",
       "      <th>playoff_h2h_net</th>\n",
       "    </tr>\n",
       "  </thead>\n",
       "  <tbody>\n",
       "    <tr>\n",
       "      <th>0</th>\n",
       "      <td>1104_1112</td>\n",
       "      <td>1990</td>\n",
       "      <td>1</td>\n",
       "      <td>1</td>\n",
       "      <td>0</td>\n",
       "      <td>1</td>\n",
       "    </tr>\n",
       "    <tr>\n",
       "      <th>1</th>\n",
       "      <td>1104_1344</td>\n",
       "      <td>1994</td>\n",
       "      <td>1</td>\n",
       "      <td>0</td>\n",
       "      <td>1</td>\n",
       "      <td>-1</td>\n",
       "    </tr>\n",
       "    <tr>\n",
       "      <th>2</th>\n",
       "      <td>1104_1390</td>\n",
       "      <td>2004</td>\n",
       "      <td>1</td>\n",
       "      <td>1</td>\n",
       "      <td>0</td>\n",
       "      <td>1</td>\n",
       "    </tr>\n",
       "    <tr>\n",
       "      <th>3</th>\n",
       "      <td>1112_1181</td>\n",
       "      <td>2011</td>\n",
       "      <td>1</td>\n",
       "      <td>0</td>\n",
       "      <td>1</td>\n",
       "      <td>-1</td>\n",
       "    </tr>\n",
       "    <tr>\n",
       "      <th>4</th>\n",
       "      <td>1112_1211</td>\n",
       "      <td>2014</td>\n",
       "      <td>1</td>\n",
       "      <td>1</td>\n",
       "      <td>0</td>\n",
       "      <td>1</td>\n",
       "    </tr>\n",
       "  </tbody>\n",
       "</table>\n",
       "</div>"
      ],
      "text/plain": [
       "       Teams  Season  playoff_h2h_total  playoff_h2h_wins  playoff_h2h_losses  \\\n",
       "0  1104_1112    1990                  1                 1                   0   \n",
       "1  1104_1344    1994                  1                 0                   1   \n",
       "2  1104_1390    2004                  1                 1                   0   \n",
       "3  1112_1181    2011                  1                 0                   1   \n",
       "4  1112_1211    2014                  1                 1                   0   \n",
       "\n",
       "   playoff_h2h_net  \n",
       "0                1  \n",
       "1               -1  \n",
       "2                1  \n",
       "3               -1  \n",
       "4                1  "
      ]
     },
     "execution_count": 147,
     "metadata": {},
     "output_type": "execute_result"
    }
   ],
   "source": [
    "playoff_h2h = compact_results\\\n",
    "    .merge(compact_results, how='left', on='Teams', suffixes=('_1','_2'))\\\n",
    "    .query(\"Season_1 > Season_2\")\\\n",
    "    .groupby(['Teams','Season_1'])\\\n",
    "    .agg({'Outcome_2': ['size', np.sum]})\\\n",
    "    .reset_index()\n",
    "playoff_h2h.columns = ['Teams', 'Season', 'playoff_h2h_total', 'playoff_h2h_wins']\n",
    "playoff_h2h['playoff_h2h_losses'] = playoff_h2h['playoff_h2h_total'] - playoff_h2h['playoff_h2h_wins']\n",
    "playoff_h2h['playoff_h2h_net'] = playoff_h2h['playoff_h2h_wins'] - playoff_h2h['playoff_h2h_losses']\n",
    "playoff_h2h.head()"
   ]
  },
  {
   "cell_type": "code",
   "execution_count": 148,
   "metadata": {},
   "outputs": [
    {
     "data": {
      "text/html": [
       "<div>\n",
       "<style scoped>\n",
       "    .dataframe tbody tr th:only-of-type {\n",
       "        vertical-align: middle;\n",
       "    }\n",
       "\n",
       "    .dataframe tbody tr th {\n",
       "        vertical-align: top;\n",
       "    }\n",
       "\n",
       "    .dataframe thead th {\n",
       "        text-align: right;\n",
       "    }\n",
       "</style>\n",
       "<table border=\"1\" class=\"dataframe\">\n",
       "  <thead>\n",
       "    <tr style=\"text-align: right;\">\n",
       "      <th></th>\n",
       "      <th>Teams</th>\n",
       "      <th>Season</th>\n",
       "      <th>Outcome</th>\n",
       "      <th>WScore</th>\n",
       "      <th>LScore</th>\n",
       "    </tr>\n",
       "  </thead>\n",
       "  <tbody>\n",
       "    <tr>\n",
       "      <th>123</th>\n",
       "      <td>1181_1242</td>\n",
       "      <td>1986</td>\n",
       "      <td>1</td>\n",
       "      <td>71</td>\n",
       "      <td>67</td>\n",
       "    </tr>\n",
       "    <tr>\n",
       "      <th>249</th>\n",
       "      <td>1181_1242</td>\n",
       "      <td>1988</td>\n",
       "      <td>0</td>\n",
       "      <td>66</td>\n",
       "      <td>59</td>\n",
       "    </tr>\n",
       "    <tr>\n",
       "      <th>440</th>\n",
       "      <td>1181_1242</td>\n",
       "      <td>1991</td>\n",
       "      <td>1</td>\n",
       "      <td>72</td>\n",
       "      <td>65</td>\n",
       "    </tr>\n",
       "    <tr>\n",
       "      <th>985</th>\n",
       "      <td>1181_1242</td>\n",
       "      <td>2000</td>\n",
       "      <td>1</td>\n",
       "      <td>69</td>\n",
       "      <td>64</td>\n",
       "    </tr>\n",
       "    <tr>\n",
       "      <th>1186</th>\n",
       "      <td>1181_1242</td>\n",
       "      <td>2003</td>\n",
       "      <td>0</td>\n",
       "      <td>69</td>\n",
       "      <td>65</td>\n",
       "    </tr>\n",
       "    <tr>\n",
       "      <th>2179</th>\n",
       "      <td>1181_1242</td>\n",
       "      <td>2018</td>\n",
       "      <td>0</td>\n",
       "      <td>85</td>\n",
       "      <td>81</td>\n",
       "    </tr>\n",
       "  </tbody>\n",
       "</table>\n",
       "</div>"
      ],
      "text/plain": [
       "          Teams  Season  Outcome  WScore  LScore\n",
       "123   1181_1242    1986        1      71      67\n",
       "249   1181_1242    1988        0      66      59\n",
       "440   1181_1242    1991        1      72      65\n",
       "985   1181_1242    2000        1      69      64\n",
       "1186  1181_1242    2003        0      69      65\n",
       "2179  1181_1242    2018        0      85      81"
      ]
     },
     "execution_count": 148,
     "metadata": {},
     "output_type": "execute_result"
    }
   ],
   "source": [
    "compact_results.query(\"Teams == '1181_1242'\")[['Teams','Season','Outcome','WScore','LScore']]"
   ]
  },
  {
   "cell_type": "code",
   "execution_count": 149,
   "metadata": {},
   "outputs": [
    {
     "data": {
      "text/html": [
       "<div>\n",
       "<style scoped>\n",
       "    .dataframe tbody tr th:only-of-type {\n",
       "        vertical-align: middle;\n",
       "    }\n",
       "\n",
       "    .dataframe tbody tr th {\n",
       "        vertical-align: top;\n",
       "    }\n",
       "\n",
       "    .dataframe thead th {\n",
       "        text-align: right;\n",
       "    }\n",
       "</style>\n",
       "<table border=\"1\" class=\"dataframe\">\n",
       "  <thead>\n",
       "    <tr style=\"text-align: right;\">\n",
       "      <th></th>\n",
       "      <th>Teams</th>\n",
       "      <th>Season</th>\n",
       "      <th>playoff_h2h_total</th>\n",
       "      <th>playoff_h2h_wins</th>\n",
       "      <th>playoff_h2h_losses</th>\n",
       "      <th>playoff_h2h_net</th>\n",
       "    </tr>\n",
       "  </thead>\n",
       "  <tbody>\n",
       "    <tr>\n",
       "      <th>74</th>\n",
       "      <td>1181_1242</td>\n",
       "      <td>1988</td>\n",
       "      <td>1</td>\n",
       "      <td>1</td>\n",
       "      <td>0</td>\n",
       "      <td>1</td>\n",
       "    </tr>\n",
       "    <tr>\n",
       "      <th>75</th>\n",
       "      <td>1181_1242</td>\n",
       "      <td>1991</td>\n",
       "      <td>2</td>\n",
       "      <td>1</td>\n",
       "      <td>1</td>\n",
       "      <td>0</td>\n",
       "    </tr>\n",
       "    <tr>\n",
       "      <th>76</th>\n",
       "      <td>1181_1242</td>\n",
       "      <td>2000</td>\n",
       "      <td>3</td>\n",
       "      <td>2</td>\n",
       "      <td>1</td>\n",
       "      <td>1</td>\n",
       "    </tr>\n",
       "    <tr>\n",
       "      <th>77</th>\n",
       "      <td>1181_1242</td>\n",
       "      <td>2003</td>\n",
       "      <td>4</td>\n",
       "      <td>3</td>\n",
       "      <td>1</td>\n",
       "      <td>2</td>\n",
       "    </tr>\n",
       "    <tr>\n",
       "      <th>78</th>\n",
       "      <td>1181_1242</td>\n",
       "      <td>2018</td>\n",
       "      <td>5</td>\n",
       "      <td>3</td>\n",
       "      <td>2</td>\n",
       "      <td>1</td>\n",
       "    </tr>\n",
       "  </tbody>\n",
       "</table>\n",
       "</div>"
      ],
      "text/plain": [
       "        Teams  Season  playoff_h2h_total  playoff_h2h_wins  \\\n",
       "74  1181_1242    1988                  1                 1   \n",
       "75  1181_1242    1991                  2                 1   \n",
       "76  1181_1242    2000                  3                 2   \n",
       "77  1181_1242    2003                  4                 3   \n",
       "78  1181_1242    2018                  5                 3   \n",
       "\n",
       "    playoff_h2h_losses  playoff_h2h_net  \n",
       "74                   0                1  \n",
       "75                   1                0  \n",
       "76                   1                1  \n",
       "77                   1                2  \n",
       "78                   2                1  "
      ]
     },
     "execution_count": 149,
     "metadata": {},
     "output_type": "execute_result"
    }
   ],
   "source": [
    "playoff_h2h.query(\"Teams == '1181_1242'\")"
   ]
  },
  {
   "cell_type": "markdown",
   "metadata": {},
   "source": [
    "### Baseline Model (1): Logistic Regression w/ SeedDiff Only"
   ]
  },
  {
   "cell_type": "code",
   "execution_count": 150,
   "metadata": {},
   "outputs": [],
   "source": [
    "from sklearn.linear_model import LogisticRegression\n",
    "from sklearn.metrics import log_loss"
   ]
  },
  {
   "cell_type": "code",
   "execution_count": 151,
   "metadata": {},
   "outputs": [],
   "source": [
    "df = compact_results.merge(seeds, how='left', left_on=['Season', 'TeamA'], right_index=True)\\\n",
    "                    .merge(seeds, how='left', left_on=['Season', 'TeamB'], right_index=True, suffixes=('_A', '_B'))\n",
    "df['SeedDiff'] = df['SeedNum_B'] - df['SeedNum_A'] "
   ]
  },
  {
   "cell_type": "code",
   "execution_count": 152,
   "metadata": {},
   "outputs": [
    {
     "data": {
      "image/png": "[encoded data removed]",
      "text/plain": [
       "<Figure size 432x288 with 1 Axes>"
      ]
     },
     "metadata": {
      "needs_background": "light"
     },
     "output_type": "display_data"
    }
   ],
   "source": []
  },
  {
   "cell_type": "code",
   "execution_count": 153,
   "metadata": {},
   "outputs": [
    {
     "name": "stdout",
     "output_type": "stream",
     "text": [
      "Train: 2050 | Val: 201\n"
     ]
    }
   ],
   "source": [
    "# train/test split: train on seasons through 2016, validate on seasons 2017-19 \n",
    "train = df.query(\"Season < 2017\")\n",
    "val = df.query(\"Season >= 2017\")\n",
    "print(\"Train: {} | Val: {}\".format(len(train), len(val)))"
   ]
  },
  {
   "cell_type": "code",
   "execution_count": 154,
   "metadata": {},
   "outputs": [
    {
     "data": {
      "text/plain": [
       "0.5577789914274504"
      ]
     },
     "execution_count": 154,
     "metadata": {},
     "output_type": "execute_result"
    }
   ],
   "source": [
    "lr_seeddiff = LogisticRegression()\n",
    "lr_seeddiff.fit(train[['SeedDiff']], train['Outcome'])\n",
    "lr_preds = lr_seeddiff.predict_proba(val[['SeedDiff']])\n",
    "log_loss(val['Outcome'], lr_preds)"
   ]
  },
  {
   "cell_type": "markdown",
   "metadata": {},
   "source": [
    "### Random Forest w/ Seed + Playoff H2H "
   ]
  },
  {
   "cell_type": "code",
   "execution_count": 155,
   "metadata": {},
   "outputs": [],
   "source": [
    "from sklearn.ensemble import RandomForestClassifier"
   ]
  },
  {
   "cell_type": "code",
   "execution_count": 163,
   "metadata": {},
   "outputs": [],
   "source": [
    "RF_FEATURES = ['SeedDiff','playoff_h2h_net']"
   ]
  },
  {
   "cell_type": "code",
   "execution_count": 164,
   "metadata": {},
   "outputs": [
    {
     "name": "stdout",
     "output_type": "stream",
     "text": [
      "Train: 2050 | Val: 201\n"
     ]
    }
   ],
   "source": [
    "df1 = df.merge(playoff_h2h, how='left', on=['Season','Teams'])\n",
    "df1[RF_FEATURES] = df1[RF_FEATURES].fillna(0)\n",
    "train1 = df1.query(\"Season < 2017\")\n",
    "val1 = df1.query(\"Season >= 2017\")\n",
    "print(\"Train: {} | Val: {}\".format(len(train1), len(val1)))"
   ]
  },
  {
   "cell_type": "code",
   "execution_count": 165,
   "metadata": {},
   "outputs": [
    {
     "data": {
      "text/plain": [
       "0.8962318789251664"
      ]
     },
     "execution_count": 165,
     "metadata": {},
     "output_type": "execute_result"
    }
   ],
   "source": [
    "rf_seeds = RandomForestClassifier()\n",
    "rf_seeds.fit(train1[RF_FEATURES], train1['Outcome'])\n",
    "rf_seeds_preds = rf_seeds.predict_proba(val1[RF_FEATURES])\n",
    "log_loss(val1['Outcome'], rf_seeds_preds)"
   ]
  },
  {
   "cell_type": "code",
   "execution_count": null,
   "metadata": {},
   "outputs": [],
   "source": []
  }
 ],
 "metadata": {
  "kernelspec": {
   "display_name": "Python 3",
   "language": "python",
   "name": "python3"
  },
  "language_info": {
   "codemirror_mode": {
    "name": "ipython",
    "version": 3
   },
   "file_extension": ".py",
   "mimetype": "text/x-python",
   "name": "python",
   "nbconvert_exporter": "python",
   "pygments_lexer": "ipython3",
   "version": "3.7.3"
  }
 },
 "nbformat": 4,
 "nbformat_minor": 2
}
